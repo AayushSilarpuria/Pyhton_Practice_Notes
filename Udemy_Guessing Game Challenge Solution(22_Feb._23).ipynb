{
 "cells": [
  {
   "cell_type": "code",
   "execution_count": 1,
   "id": "53471c58",
   "metadata": {},
   "outputs": [
    {
     "data": {
      "text/plain": [
       "56"
      ]
     },
     "execution_count": 1,
     "metadata": {},
     "output_type": "execute_result"
    }
   ],
   "source": [
    "from random import randint\n",
    "num = randint(0,100)\n",
    "num"
   ]
  },
  {
   "cell_type": "markdown",
   "id": "4c0252b9",
   "metadata": {},
   "source": [
    "1 > Pguess > 100 \n",
    "print(\"OUT OF BOUNDS\")\n",
    "\n",
    "Pguess<10 \n",
    "print(\"WARM!\")\n",
    "Pguess>10\n",
    "print(\"COLD!\")\n",
    "\n",
    "NPguess near Pguess\n",
    "print(\"WARMER!\")\n",
    "NPguess farther Pguess\n",
    "print(\"COLDER!\")\n",
    "\n",
    "Pguess == num\n",
    "print(\"CORRECT GUESS!!\")\n",
    "\n",
    "number += 1\n",
    "\n",
    "\n"
   ]
  },
  {
   "cell_type": "code",
   "execution_count": 2,
   "id": "96d22cd9",
   "metadata": {
    "scrolled": true
   },
   "outputs": [
    {
     "name": "stdout",
     "output_type": "stream",
     "text": [
      "Welcome to Guessing Game!!!\n",
      "Here are some rule for game:\n",
      "You have to guess any number between 1 to 100 .\n",
      "If your guess number within 10 digit range, You make WARM! guess.\n",
      "If your guess number further away from 10 digit range, You make   COLD! guess.\n",
      "If your guess is closer to previous guess, You guess is WARMER! .\n",
      "If your guess is further from previous guess, You guess is     COLDER! .\n",
      "LET'S PLAY!!!\n"
     ]
    }
   ],
   "source": [
    "print(\"Welcome to Guessing Game!!!\")\n",
    "print(\"Here are some rule for game:\")\n",
    "print(\"You have to guess any number between 1 to 100 .\")\n",
    "print(\"If your guess number within 10 digit range, You make WARM! guess.\")\n",
    "print(\"If your guess number further away from 10 digit range, You make   COLD! guess.\")\n",
    "print(\"If your guess is closer to previous guess, You guess is WARMER! .\")\n",
    "print(\"If your guess is further from previous guess, You guess is     COLDER! .\")\n",
    "print(\"LET'S PLAY!!!\")"
   ]
  },
  {
   "cell_type": "code",
   "execution_count": 3,
   "id": "f68ce8d8",
   "metadata": {},
   "outputs": [
    {
     "name": "stdout",
     "output_type": "stream",
     "text": [
      "Select 1 to 100: 55\n",
      "Warm!\n",
      "Select 1 to 100: 45\n",
      "Colder!\n",
      "Select 1 to 100: 56\n",
      "CORRECT!!..., You Guessed it in only 3 \n"
     ]
    }
   ],
   "source": [
    "guess_list = [0]\n",
    "\n",
    "while True:\n",
    "    guess_num = int(input(\"Select 1 to 100: \"))\n",
    "    \n",
    "    if guess_num < 1 or guess_num > 100:\n",
    "        print(\"OUT OF BOUNDS! Please try again:\")\n",
    "        continue\n",
    "    \n",
    "    if guess_num == num:\n",
    "        print(f\"CORRECT!!..., You Guessed it in only {len(guess_list)} \")\n",
    "        break\n",
    "    \n",
    "    guess_list.append(guess_num)\n",
    "    \n",
    "    if guess_list[-2]:\n",
    "        if abs(num - guess_num) < abs(num - guess_list[-2]):\n",
    "            print(\"Warmer!\")\n",
    "        else:\n",
    "            print(\"Colder!\")\n",
    "    \n",
    "    else:\n",
    "        if abs(num - guess_num) <= 10:\n",
    "            print(\"Warm!\")\n",
    "        else:\n",
    "            print(\"Cold!\")"
   ]
  },
  {
   "cell_type": "code",
   "execution_count": null,
   "id": "b60cea2e",
   "metadata": {},
   "outputs": [],
   "source": []
  },
  {
   "cell_type": "code",
   "execution_count": 4,
   "id": "3a234e8a",
   "metadata": {},
   "outputs": [
    {
     "ename": "TypeError",
     "evalue": "'int' object is not iterable",
     "output_type": "error",
     "traceback": [
      "\u001b[1;31m---------------------------------------------------------------------------\u001b[0m",
      "\u001b[1;31mTypeError\u001b[0m                                 Traceback (most recent call last)",
      "Input \u001b[1;32mIn [4]\u001b[0m, in \u001b[0;36m<cell line: 1>\u001b[1;34m()\u001b[0m\n\u001b[1;32m----> 1\u001b[0m guess_list \u001b[38;5;241m+\u001b[39m\u001b[38;5;241m=\u001b[39m \u001b[38;5;241m1\u001b[39m\n\u001b[0;32m      2\u001b[0m \u001b[38;5;28mprint\u001b[39m(guess_list)\n",
      "\u001b[1;31mTypeError\u001b[0m: 'int' object is not iterable"
     ]
    }
   ],
   "source": [
    " guess_list += 1\n",
    "print(guess_list)"
   ]
  },
  {
   "cell_type": "code",
   "execution_count": null,
   "id": "e366b9fd",
   "metadata": {},
   "outputs": [],
   "source": []
  },
  {
   "cell_type": "code",
   "execution_count": null,
   "id": "4b42d426",
   "metadata": {},
   "outputs": [],
   "source": [
    "i = {}\n",
    "\n",
    "for p in range(49,128):\n",
    "    a = chr(p)\n",
    "    i[p]=a\n",
    "print(i)"
   ]
  },
  {
   "cell_type": "code",
   "execution_count": null,
   "id": "79a4097b",
   "metadata": {},
   "outputs": [],
   "source": [
    "x = chr(65)"
   ]
  },
  {
   "cell_type": "code",
   "execution_count": null,
   "id": "315d8802",
   "metadata": {},
   "outputs": [],
   "source": [
    "x"
   ]
  },
  {
   "cell_type": "code",
   "execution_count": null,
   "id": "6b4b0823",
   "metadata": {},
   "outputs": [],
   "source": [
    "\n",
    "i = {}\n",
    "\n",
    "for p in range(1,128):\n",
    "    a = chr(p)\n",
    "    i[p]=a\n",
    "\n",
    "for key,value in i.items():\n",
    "    print(value,\"=\", key)\n",
    "    \n",
    "import json\n",
    "print(json.dumps(i, indent=0))"
   ]
  },
  {
   "cell_type": "code",
   "execution_count": null,
   "id": "714e414b",
   "metadata": {},
   "outputs": [],
   "source": [
    "x = ord('a')"
   ]
  },
  {
   "cell_type": "code",
   "execution_count": null,
   "id": "52f42a62",
   "metadata": {},
   "outputs": [],
   "source": [
    "x"
   ]
  },
  {
   "cell_type": "code",
   "execution_count": null,
   "id": "ebf24f44",
   "metadata": {},
   "outputs": [],
   "source": []
  }
 ],
 "metadata": {
  "kernelspec": {
   "display_name": "Python 3 (ipykernel)",
   "language": "python",
   "name": "python3"
  },
  "language_info": {
   "codemirror_mode": {
    "name": "ipython",
    "version": 3
   },
   "file_extension": ".py",
   "mimetype": "text/x-python",
   "name": "python",
   "nbconvert_exporter": "python",
   "pygments_lexer": "ipython3",
   "version": "3.9.13"
  }
 },
 "nbformat": 4,
 "nbformat_minor": 5
}
