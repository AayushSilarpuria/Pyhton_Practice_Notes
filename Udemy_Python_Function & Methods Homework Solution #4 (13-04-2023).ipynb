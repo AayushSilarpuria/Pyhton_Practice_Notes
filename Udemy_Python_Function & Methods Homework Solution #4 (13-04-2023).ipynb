{
 "cells": [
  {
   "cell_type": "code",
   "execution_count": 1,
   "id": "98a4ff9b",
   "metadata": {},
   "outputs": [],
   "source": [
    "# Volume of a sphere given its radius.\n",
    "# formule:\n",
    "# Volume of sphere = (4/3)* 3.14 * (r^3)"
   ]
  },
  {
   "cell_type": "code",
   "execution_count": 11,
   "id": "cfcdc229",
   "metadata": {},
   "outputs": [
    {
     "data": {
      "text/plain": [
       "33.49333333333333"
      ]
     },
     "execution_count": 11,
     "metadata": {},
     "output_type": "execute_result"
    }
   ],
   "source": [
    "# My solution:\n",
    "\n",
    "def vol(rad):\n",
    "    volume = (4/3) * 3.14 * (rad**3)\n",
    "    return volume\n",
    "vol(2)"
   ]
  },
  {
   "cell_type": "code",
   "execution_count": 13,
   "id": "6ddd16bb",
   "metadata": {},
   "outputs": [
    {
     "data": {
      "text/plain": [
       "33.49333333333333"
      ]
     },
     "execution_count": 13,
     "metadata": {},
     "output_type": "execute_result"
    }
   ],
   "source": [
    "# Jose Portilla:\n",
    "\n",
    "def vol(rad):\n",
    "    return (4/3)*(3.14)*(rad**3)\n",
    "vol(2)"
   ]
  },
  {
   "cell_type": "code",
   "execution_count": 14,
   "id": "0f2b9ef7",
   "metadata": {},
   "outputs": [],
   "source": [
    "# Function in given range\n",
    "# Solve by 2 methods 1st by writing and 2nd by boolean"
   ]
  },
  {
   "cell_type": "code",
   "execution_count": 19,
   "id": "6b4e9e4a",
   "metadata": {},
   "outputs": [
    {
     "name": "stdout",
     "output_type": "stream",
     "text": [
      "4 is in range between 1 and 10.\n"
     ]
    }
   ],
   "source": [
    "# Self Method 1:\n",
    "# without range function\n",
    "\n",
    "def ran_check(num,low,high):\n",
    "    \n",
    "    if num > low and num < high:\n",
    "        print(f\"{num} is in range between {low} and {high}.\")\n",
    "            \n",
    "    else:\n",
    "        print(f\"{num} is out of range between {low} and {high}.\")\n",
    "\n",
    "ran_check(4,1,10)"
   ]
  },
  {
   "cell_type": "code",
   "execution_count": 20,
   "id": "a50609db",
   "metadata": {},
   "outputs": [
    {
     "data": {
      "text/plain": [
       "True"
      ]
     },
     "execution_count": 20,
     "metadata": {},
     "output_type": "execute_result"
    }
   ],
   "source": [
    "# Self Method 2:\n",
    "# withour range function\n",
    "\n",
    "def ran_bool(num, low, high):\n",
    "    \n",
    "    if num>low and num<high:\n",
    "        return True\n",
    "    else:\n",
    "        return False\n",
    "\n",
    "ran_bool(3,1,10)"
   ]
  },
  {
   "cell_type": "code",
   "execution_count": 21,
   "id": "3c634f5e",
   "metadata": {},
   "outputs": [
    {
     "name": "stdout",
     "output_type": "stream",
     "text": [
      "3 is in range between 1 and 10\n"
     ]
    }
   ],
   "source": [
    "# Jose Portilla:\n",
    "\n",
    "def ran_check(num, low, high):\n",
    "    \n",
    "    if num in range(low, high+1):\n",
    "        print(f'{num} is in range between {low} and {high}')\n",
    "    else:\n",
    "        print(\" Out of Range.\")\n",
    "\n",
    "ran_check(3,1,10)"
   ]
  },
  {
   "cell_type": "code",
   "execution_count": 24,
   "id": "6ef9f760",
   "metadata": {},
   "outputs": [
    {
     "data": {
      "text/plain": [
       "True"
      ]
     },
     "execution_count": 24,
     "metadata": {},
     "output_type": "execute_result"
    }
   ],
   "source": [
    "# By Jose:\n",
    "\n",
    "def ran_bool(num, low, high):\n",
    "    return num in range(low, high+1)\n",
    "\n",
    "ran_bool(3,1,10)"
   ]
  },
  {
   "cell_type": "code",
   "execution_count": 28,
   "id": "d77623ae",
   "metadata": {},
   "outputs": [],
   "source": [
    "# Calculate number of upper case letter and lower case letter:\n",
    "\n",
    "def up_low(s):\n",
    "    lower_case = 0\n",
    "    upper_case = 0\n",
    "    \n",
    "    for let in s:\n",
    "        if let.isupper():\n",
    "            upper_case += 1\n",
    "        elif let.islower():\n",
    "            lower_case += 1\n",
    "        else:\n",
    "            pass\n",
    "\n",
    "    print(f\"Original String: {s}\")\n",
    "    print(f\"Number of Upper case characters: {upper_case}\")\n",
    "    print(f\"Number of Lower case characters: {lower_case}\")\n",
    "    "
   ]
  },
  {
   "cell_type": "code",
   "execution_count": 29,
   "id": "af4114c7",
   "metadata": {},
   "outputs": [
    {
     "name": "stdout",
     "output_type": "stream",
     "text": [
      "Original String: Hello Mr. Rogers, how are you this fine Tuesday?\n",
      "Number of Upper case characters: 4\n",
      "Number of Lower case characters: 33\n"
     ]
    }
   ],
   "source": [
    "String = 'Hello Mr. Rogers, how are you this fine Tuesday?'\n",
    "up_low(String)"
   ]
  },
  {
   "cell_type": "code",
   "execution_count": 34,
   "id": "be5e2bec",
   "metadata": {},
   "outputs": [
    {
     "name": "stdout",
     "output_type": "stream",
     "text": [
      "Original string: Hello Mr. Rogers, how are you this fine Tuesday?\n",
      "Number of Upper case character: 4.\n",
      "Number of Lower case character: 33.\n"
     ]
    }
   ],
   "source": [
    "# Above Program in Dictionary Method:\n",
    "\n",
    "def up_low(s):\n",
    "    d = {'upper': 0, 'lower': 0}\n",
    "    \n",
    "    for let in s:\n",
    "        if let.isupper():\n",
    "            d['upper'] += 1\n",
    "        elif let.islower():\n",
    "            d['lower'] += 1\n",
    "        else:\n",
    "            pass\n",
    "    \n",
    "    print(f\"Original string: {s}\")\n",
    "    print(f\"Number of Upper case character: {d['upper']}.\")\n",
    "    print(f\"Number of Lower case character: {d['lower']}.\")\n",
    "    \n",
    "    \n",
    "String = 'Hello Mr. Rogers, how are you this fine Tuesday?'\n",
    "up_low(String)"
   ]
  },
  {
   "cell_type": "code",
   "execution_count": null,
   "id": "ecd41ab6",
   "metadata": {},
   "outputs": [],
   "source": []
  },
  {
   "cell_type": "code",
   "execution_count": null,
   "id": "02ee14e7",
   "metadata": {},
   "outputs": [],
   "source": []
  }
 ],
 "metadata": {
  "kernelspec": {
   "display_name": "Python 3 (ipykernel)",
   "language": "python",
   "name": "python3"
  },
  "language_info": {
   "codemirror_mode": {
    "name": "ipython",
    "version": 3
   },
   "file_extension": ".py",
   "mimetype": "text/x-python",
   "name": "python",
   "nbconvert_exporter": "python",
   "pygments_lexer": "ipython3",
   "version": "3.9.13"
  }
 },
 "nbformat": 4,
 "nbformat_minor": 5
}
