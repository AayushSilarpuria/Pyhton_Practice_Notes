{
 "cells": [
  {
   "cell_type": "code",
   "execution_count": 1,
   "id": "cedc0e81",
   "metadata": {},
   "outputs": [],
   "source": [
    "# Volume of a sphere given its radius.\n",
    "# formule:\n",
    "# Volume of sphere = (4/3)* 3.14 * (r^3)"
   ]
  },
  {
   "cell_type": "code",
   "execution_count": 11,
   "id": "a12fc7ed",
   "metadata": {},
   "outputs": [
    {
     "data": {
      "text/plain": [
       "33.49333333333333"
      ]
     },
     "execution_count": 11,
     "metadata": {},
     "output_type": "execute_result"
    }
   ],
   "source": [
    "# My solution:\n",
    "\n",
    "def vol(rad):\n",
    "    volume = (4/3) * 3.14 * (rad**3)\n",
    "    return volume\n",
    "vol(2)"
   ]
  },
  {
   "cell_type": "code",
   "execution_count": 13,
   "id": "f3dad99d",
   "metadata": {},
   "outputs": [
    {
     "data": {
      "text/plain": [
       "33.49333333333333"
      ]
     },
     "execution_count": 13,
     "metadata": {},
     "output_type": "execute_result"
    }
   ],
   "source": [
    "# Jose Portilla:\n",
    "\n",
    "def vol(rad):\n",
    "    return (4/3)*(3.14)*(rad**3)\n",
    "vol(2)"
   ]
  },
  {
   "cell_type": "code",
   "execution_count": 14,
   "id": "2e162cca",
   "metadata": {},
   "outputs": [],
   "source": [
    "# Function in given range\n",
    "# Solve by 2 methods 1st by writing and 2nd by boolean"
   ]
  },
  {
   "cell_type": "code",
   "execution_count": 19,
   "id": "46dd5b3f",
   "metadata": {},
   "outputs": [
    {
     "name": "stdout",
     "output_type": "stream",
     "text": [
      "4 is in range between 1 and 10.\n"
     ]
    }
   ],
   "source": [
    "# Self Method 1:\n",
    "# without range function\n",
    "\n",
    "def ran_check(num,low,high):\n",
    "    \n",
    "    if num > low and num < high:\n",
    "        print(f\"{num} is in range between {low} and {high}.\")\n",
    "            \n",
    "    else:\n",
    "        print(f\"{num} is out of range between {low} and {high}.\")\n",
    "\n",
    "ran_check(4,1,10)"
   ]
  },
  {
   "cell_type": "code",
   "execution_count": 20,
   "id": "c3a5ffb4",
   "metadata": {},
   "outputs": [
    {
     "data": {
      "text/plain": [
       "True"
      ]
     },
     "execution_count": 20,
     "metadata": {},
     "output_type": "execute_result"
    }
   ],
   "source": [
    "# Self Method 2:\n",
    "# withour range function\n",
    "\n",
    "def ran_bool(num, low, high):\n",
    "    \n",
    "    if num>low and num<high:\n",
    "        return True\n",
    "    else:\n",
    "        return False\n",
    "\n",
    "ran_bool(3,1,10)"
   ]
  },
  {
   "cell_type": "code",
   "execution_count": 21,
   "id": "8dc72a78",
   "metadata": {},
   "outputs": [
    {
     "name": "stdout",
     "output_type": "stream",
     "text": [
      "3 is in range between 1 and 10\n"
     ]
    }
   ],
   "source": [
    "# Jose Portilla:\n",
    "\n",
    "def ran_check(num, low, high):\n",
    "    \n",
    "    if num in range(low, high+1):\n",
    "        print(f'{num} is in range between {low} and {high}')\n",
    "    else:\n",
    "        print(\" Out of Range.\")\n",
    "\n",
    "ran_check(3,1,10)"
   ]
  },
  {
   "cell_type": "code",
   "execution_count": 24,
   "id": "72d84386",
   "metadata": {},
   "outputs": [
    {
     "data": {
      "text/plain": [
       "True"
      ]
     },
     "execution_count": 24,
     "metadata": {},
     "output_type": "execute_result"
    }
   ],
   "source": [
    "# By Jose:\n",
    "\n",
    "def ran_bool(num, low, high):\n",
    "    return num in range(low, high+1)\n",
    "\n",
    "ran_bool(3,1,10)"
   ]
  },
  {
   "cell_type": "code",
   "execution_count": 28,
   "id": "b2deef77",
   "metadata": {},
   "outputs": [],
   "source": [
    "# Calculate number of upper case letter and lower case letter:\n",
    "\n",
    "def up_low(s):\n",
    "    lower_case = 0\n",
    "    upper_case = 0\n",
    "    \n",
    "    for let in s:\n",
    "        if let.isupper():\n",
    "            upper_case += 1\n",
    "        elif let.islower():\n",
    "            lower_case += 1\n",
    "        else:\n",
    "            pass\n",
    "\n",
    "    print(f\"Original String: {s}\")\n",
    "    print(f\"Number of Upper case characters: {upper_case}\")\n",
    "    print(f\"Number of Lower case characters: {lower_case}\")\n",
    "    "
   ]
  },
  {
   "cell_type": "code",
   "execution_count": 29,
   "id": "41046f48",
   "metadata": {},
   "outputs": [
    {
     "name": "stdout",
     "output_type": "stream",
     "text": [
      "Original String: Hello Mr. Rogers, how are you this fine Tuesday?\n",
      "Number of Upper case characters: 4\n",
      "Number of Lower case characters: 33\n"
     ]
    }
   ],
   "source": [
    "String = 'Hello Mr. Rogers, how are you this fine Tuesday?'\n",
    "up_low(String)"
   ]
  },
  {
   "cell_type": "code",
   "execution_count": 34,
   "id": "0d783656",
   "metadata": {},
   "outputs": [
    {
     "name": "stdout",
     "output_type": "stream",
     "text": [
      "Original string: Hello Mr. Rogers, how are you this fine Tuesday?\n",
      "Number of Upper case character: 4.\n",
      "Number of Lower case character: 33.\n"
     ]
    }
   ],
   "source": [
    "# Above Program in Dictionary Method:\n",
    "\n",
    "def up_low(s):\n",
    "    d = {'upper': 0, 'lower': 0}\n",
    "    \n",
    "    for let in s:\n",
    "        if let.isupper():\n",
    "            d['upper'] += 1\n",
    "        elif let.islower():\n",
    "            d['lower'] += 1\n",
    "        else:\n",
    "            pass\n",
    "    \n",
    "    print(f\"Original string: {s}\")\n",
    "    print(f\"Number of Upper case character: {d['upper']}.\")\n",
    "    print(f\"Number of Lower case character: {d['lower']}.\")\n",
    "    \n",
    "    \n",
    "String = 'Hello Mr. Rogers, how are you this fine Tuesday?'\n",
    "up_low(String)"
   ]
  },
  {
   "cell_type": "code",
   "execution_count": 50,
   "id": "3a6eaaf0",
   "metadata": {},
   "outputs": [],
   "source": [
    "# return a new list with unique elements from the first list.\n",
    "\n",
    "def unique_list(lst):\n",
    "    new_list = set(lst)\n",
    "    return list(new_list)\n"
   ]
  },
  {
   "cell_type": "code",
   "execution_count": 51,
   "id": "a4d22437",
   "metadata": {},
   "outputs": [
    {
     "name": "stdout",
     "output_type": "stream",
     "text": [
      "[1, 2, 3, 4, 5]\n"
     ]
    }
   ],
   "source": [
    "s_list = [1,1,1,1,2,2,3,3,3,3,4,5]\n",
    "print(unique_list(s_list))"
   ]
  },
  {
   "cell_type": "code",
   "execution_count": 52,
   "id": "be8bb242",
   "metadata": {},
   "outputs": [],
   "source": [
    "# Jose: \n",
    "# Method-1:\n",
    "def unique_list(lst):\n",
    "    return list(set(lst))"
   ]
  },
  {
   "cell_type": "code",
   "execution_count": 53,
   "id": "c4e3d49a",
   "metadata": {},
   "outputs": [
    {
     "name": "stdout",
     "output_type": "stream",
     "text": [
      "[1, 2, 3, 4, 5]\n"
     ]
    }
   ],
   "source": [
    "s_list = [1,1,1,1,2,2,3,3,3,3,4,5]\n",
    "print(unique_list(s_list))"
   ]
  },
  {
   "cell_type": "code",
   "execution_count": 56,
   "id": "4f1218dd",
   "metadata": {},
   "outputs": [],
   "source": [
    "# Method-2:\n",
    "def unique_list(lst):\n",
    "    \n",
    "    seen_num = []\n",
    "    for number in lst:\n",
    "        if number not in seen_num:\n",
    "            seen_num.append(number)\n",
    "    return seen_num\n",
    "    "
   ]
  },
  {
   "cell_type": "code",
   "execution_count": 57,
   "id": "19742d4f",
   "metadata": {},
   "outputs": [
    {
     "data": {
      "text/plain": [
       "[1, 2, 3, 4, 5]"
      ]
     },
     "execution_count": 57,
     "metadata": {},
     "output_type": "execute_result"
    }
   ],
   "source": [
    "s_list = [1,1,1,1,2,2,3,3,3,3,4,5]\n",
    "unique_list(s_list)"
   ]
  },
  {
   "cell_type": "code",
   "execution_count": 59,
   "id": "841892f9",
   "metadata": {},
   "outputs": [],
   "source": [
    "# Multiply all the numbers in list:\n",
    "# My progrma == Jose program\n",
    "def multiply(number):\n",
    "    new_num = 1\n",
    "    for num in number:\n",
    "        new_num = new_num * num\n",
    "    return new_num\n",
    "        "
   ]
  },
  {
   "cell_type": "code",
   "execution_count": 60,
   "id": "b580549d",
   "metadata": {},
   "outputs": [
    {
     "data": {
      "text/plain": [
       "-24"
      ]
     },
     "execution_count": 60,
     "metadata": {},
     "output_type": "execute_result"
    }
   ],
   "source": [
    "sam_list = [1,2,3,-4]\n",
    "multiply(sam_list)"
   ]
  },
  {
   "cell_type": "code",
   "execution_count": 65,
   "id": "79652f22",
   "metadata": {},
   "outputs": [
    {
     "data": {
      "text/plain": [
       "True"
      ]
     },
     "execution_count": 65,
     "metadata": {},
     "output_type": "execute_result"
    }
   ],
   "source": [
    "# Checks whether a word or phrase id palindrome or not\n",
    "\n",
    "def palindrome(s):\n",
    "    \n",
    "    new_s = s[::-1]\n",
    "    if s == new_s:\n",
    "        return True\n",
    "    \n",
    "    return False\n",
    "palindrome('helleh')"
   ]
  },
  {
   "cell_type": "code",
   "execution_count": 66,
   "id": "be80fdc4",
   "metadata": {},
   "outputs": [
    {
     "data": {
      "text/plain": [
       "False"
      ]
     },
     "execution_count": 66,
     "metadata": {},
     "output_type": "execute_result"
    }
   ],
   "source": [
    "# my program is not work with letters with space.\n",
    "palindrome('nurses run')"
   ]
  },
  {
   "cell_type": "code",
   "execution_count": 69,
   "id": "857724cb",
   "metadata": {},
   "outputs": [],
   "source": [
    "# Jose\n",
    "def palindrome(s):\n",
    "    # Remove space string\n",
    "    s = s.replace(' ','')\n",
    "    # Check is string is == reversed version of the string\n",
    "    return s == s[::-1]"
   ]
  },
  {
   "cell_type": "code",
   "execution_count": 70,
   "id": "d5448e52",
   "metadata": {},
   "outputs": [
    {
     "data": {
      "text/plain": [
       "True"
      ]
     },
     "execution_count": 70,
     "metadata": {},
     "output_type": "execute_result"
    }
   ],
   "source": [
    "palindrome('nu rs es ru n')"
   ]
  },
  {
   "cell_type": "code",
   "execution_count": 95,
   "id": "d8c8fa47",
   "metadata": {},
   "outputs": [],
   "source": [
    "# Check whether a string is pangram or not:\n",
    "\n",
    "# Note : Pangrams are words or sentences containing every letter of the alphabet at least once.\n",
    "# For example : \"The quick brown fox jumps over the lazy dog\"\n",
    "\n",
    "def ispangram(str1):\n",
    "    \n",
    "    str1 = str1.replace(' ', '')\n",
    "    str2 = ''\n",
    "    for let in str1:\n",
    "        if let not in str2:\n",
    "            str2 = str2 + let\n",
    "            str2 == str1\n",
    "            return True\n",
    "        return False"
   ]
  },
  {
   "cell_type": "code",
   "execution_count": 96,
   "id": "d29fda4c",
   "metadata": {},
   "outputs": [
    {
     "data": {
      "text/plain": [
       "True"
      ]
     },
     "execution_count": 96,
     "metadata": {},
     "output_type": "execute_result"
    }
   ],
   "source": [
    "ispangram(\"The quick brown fox jumps over the lazy dog\")"
   ]
  },
  {
   "cell_type": "code",
   "execution_count": 89,
   "id": "397281fe",
   "metadata": {},
   "outputs": [],
   "source": [
    "# Jose:\n",
    "\n",
    "def ispangram(str1, alphabet = string.ascii_lowercase):\n",
    "    \n",
    "    # Create a set of the alphabet\n",
    "    alphaset = set(alphabet)\n",
    "    \n",
    "    # Remove any space from the input string\n",
    "    str1 = str1.replace(' ', '')\n",
    "    \n",
    "    # convert into all lowercase\n",
    "    str1 = str1.lower()\n",
    "    \n",
    "    # Grab all unique letter from the string set()\n",
    "    str1 = set(str1)\n",
    "    \n",
    "    #alphabet set == string set input\n",
    "    return str1 == alphaset\n"
   ]
  },
  {
   "cell_type": "code",
   "execution_count": 91,
   "id": "14791cf9",
   "metadata": {},
   "outputs": [
    {
     "data": {
      "text/plain": [
       "True"
      ]
     },
     "execution_count": 91,
     "metadata": {},
     "output_type": "execute_result"
    }
   ],
   "source": [
    "ispangram(\"The quick bbrown fox jumps over the lazy dog\")"
   ]
  },
  {
   "cell_type": "code",
   "execution_count": 92,
   "id": "d32078e0",
   "metadata": {},
   "outputs": [
    {
     "data": {
      "text/plain": [
       "'abcdefghijklmnopqrstuvwxyz'"
      ]
     },
     "execution_count": 92,
     "metadata": {},
     "output_type": "execute_result"
    }
   ],
   "source": [
    "string.ascii_lowercase"
   ]
  },
  {
   "cell_type": "code",
   "execution_count": 97,
   "id": "3fa3095a",
   "metadata": {},
   "outputs": [],
   "source": [
    "# Use print statement to debug condition.\n",
    "# This will help you to understand program properly."
   ]
  },
  {
   "cell_type": "markdown",
   "id": "d0c6661d",
   "metadata": {},
   "source": [
    "THE END"
   ]
  },
  {
   "cell_type": "code",
   "execution_count": null,
   "id": "0f847df0",
   "metadata": {},
   "outputs": [],
   "source": []
  }
 ],
 "metadata": {
  "kernelspec": {
   "display_name": "Python 3 (ipykernel)",
   "language": "python",
   "name": "python3"
  },
  "language_info": {
   "codemirror_mode": {
    "name": "ipython",
    "version": 3
   },
   "file_extension": ".py",
   "mimetype": "text/x-python",
   "name": "python",
   "nbconvert_exporter": "python",
   "pygments_lexer": "ipython3",
   "version": "3.9.13"
  }
 },
 "nbformat": 4,
 "nbformat_minor": 5
}
