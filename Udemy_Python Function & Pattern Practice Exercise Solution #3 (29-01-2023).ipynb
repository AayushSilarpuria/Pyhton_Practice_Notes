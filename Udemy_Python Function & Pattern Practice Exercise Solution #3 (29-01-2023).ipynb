{
 "cells": [
  {
   "cell_type": "markdown",
   "id": "1e3044ee",
   "metadata": {},
   "source": [
    "## Warmup Section:"
   ]
  },
  {
   "cell_type": "markdown",
   "id": "dcee76ab",
   "metadata": {},
   "source": [
    "### Lesser of the two even"
   ]
  },
  {
   "cell_type": "code",
   "execution_count": null,
   "id": "0dc0b1ec",
   "metadata": {},
   "outputs": [],
   "source": [
    "def less_of_two_evens(a,b):\n",
    "    \n",
    "    if a%2==0 and b%2==0:\n",
    "        if a<b:\n",
    "            result = a\n",
    "        else:\n",
    "            result = b\n",
    "    else:\n",
    "        if a>b:\n",
    "            result = a\n",
    "        else:\n",
    "            result = b\n",
    "    return result"
   ]
  },
  {
   "cell_type": "code",
   "execution_count": null,
   "id": "e5b8469e",
   "metadata": {},
   "outputs": [
    {
     "data": {
      "text/plain": [
       "8"
      ]
     },
     "execution_count": 6,
     "metadata": {},
     "output_type": "execute_result"
    }
   ],
   "source": [
    "less_of_two_evens(5,8)"
   ]
  },
  {
   "cell_type": "code",
   "execution_count": null,
   "id": "5586a8ca",
   "metadata": {},
   "outputs": [
    {
     "data": {
      "text/plain": [
       "2"
      ]
     },
     "execution_count": 7,
     "metadata": {},
     "output_type": "execute_result"
    }
   ],
   "source": [
    "less_of_two_evens(2,4)"
   ]
  },
  {
   "cell_type": "code",
   "execution_count": null,
   "id": "f788bd23",
   "metadata": {},
   "outputs": [],
   "source": [
    "def less_of_two_evens(a,b):\n",
    "    \n",
    "    if a%2==0 and b%2==0:\n",
    "        # BOTH NUMBER ARE EVEN!\n",
    "        return min(a,b)\n",
    "    else: \n",
    "        # ONE OR BOTH NUMBER ARE ODD!\n",
    "        return max(a,b)"
   ]
  },
  {
   "cell_type": "code",
   "execution_count": null,
   "id": "5bd03552",
   "metadata": {},
   "outputs": [
    {
     "data": {
      "text/plain": [
       "10"
      ]
     },
     "execution_count": 10,
     "metadata": {},
     "output_type": "execute_result"
    }
   ],
   "source": [
    "less_of_two_evens(10,3)"
   ]
  },
  {
   "cell_type": "code",
   "execution_count": null,
   "id": "aaac0d4a",
   "metadata": {},
   "outputs": [
    {
     "data": {
      "text/plain": [
       "2"
      ]
     },
     "execution_count": 11,
     "metadata": {},
     "output_type": "execute_result"
    }
   ],
   "source": [
    "less_of_two_evens(2,4)"
   ]
  },
  {
   "cell_type": "markdown",
   "id": "ec4e9b8d",
   "metadata": {},
   "source": [
    "### ANIMAL CRACKERS:"
   ]
  },
  {
   "cell_type": "code",
   "execution_count": null,
   "id": "084c7902",
   "metadata": {},
   "outputs": [],
   "source": [
    "def animal_crackers(text):\n",
    "    word_list = text.lower().split()\n",
    "    print(word_list)\n",
    "    return word_list[0][0] == word_list[1][0] "
   ]
  },
  {
   "cell_type": "code",
   "execution_count": null,
   "id": "27aea08a",
   "metadata": {},
   "outputs": [
    {
     "name": "stdout",
     "output_type": "stream",
     "text": [
      "['levelheaded', 'llama']\n"
     ]
    },
    {
     "data": {
      "text/plain": [
       "True"
      ]
     },
     "execution_count": 17,
     "metadata": {},
     "output_type": "execute_result"
    }
   ],
   "source": [
    "animal_crackers('Levelheaded Llama')"
   ]
  },
  {
   "cell_type": "code",
   "execution_count": null,
   "id": "988525f0",
   "metadata": {},
   "outputs": [
    {
     "name": "stdout",
     "output_type": "stream",
     "text": [
      "['crazy', 'kangaroo']\n"
     ]
    },
    {
     "data": {
      "text/plain": [
       "False"
      ]
     },
     "execution_count": 18,
     "metadata": {},
     "output_type": "execute_result"
    }
   ],
   "source": [
    "animal_crackers('Crazy Kangaroo')"
   ]
  },
  {
   "cell_type": "code",
   "execution_count": null,
   "id": "c2e9bad5",
   "metadata": {},
   "outputs": [
    {
     "name": "stdout",
     "output_type": "stream",
     "text": [
      "['crazy', 'cat']\n"
     ]
    },
    {
     "data": {
      "text/plain": [
       "True"
      ]
     },
     "execution_count": 19,
     "metadata": {},
     "output_type": "execute_result"
    }
   ],
   "source": [
    "animal_crackers('Crazy cat')"
   ]
  },
  {
   "cell_type": "markdown",
   "id": "6dab0625",
   "metadata": {},
   "source": [
    "### MAKES TWENTY:"
   ]
  },
  {
   "cell_type": "code",
   "execution_count": null,
   "id": "71bd96b6",
   "metadata": {},
   "outputs": [],
   "source": [
    "def makes_twenty(n1,n2):\n",
    "    if n1+n2 == 20:\n",
    "        return True\n",
    "    elif n1 == 20 or n2 == 20:\n",
    "        return True\n",
    "    else:\n",
    "        return False"
   ]
  },
  {
   "cell_type": "code",
   "execution_count": null,
   "id": "95299065",
   "metadata": {},
   "outputs": [
    {
     "data": {
      "text/plain": [
       "True"
      ]
     },
     "execution_count": 11,
     "metadata": {},
     "output_type": "execute_result"
    }
   ],
   "source": [
    "makes_twenty(20,10)"
   ]
  },
  {
   "cell_type": "code",
   "execution_count": null,
   "id": "f29d17d6",
   "metadata": {},
   "outputs": [
    {
     "data": {
      "text/plain": [
       "True"
      ]
     },
     "execution_count": 12,
     "metadata": {},
     "output_type": "execute_result"
    }
   ],
   "source": [
    "makes_twenty(12,8)"
   ]
  },
  {
   "cell_type": "code",
   "execution_count": null,
   "id": "2b55d3b6",
   "metadata": {},
   "outputs": [
    {
     "data": {
      "text/plain": [
       "False"
      ]
     },
     "execution_count": 13,
     "metadata": {},
     "output_type": "execute_result"
    }
   ],
   "source": [
    "makes_twenty(2,3)"
   ]
  },
  {
   "cell_type": "code",
   "execution_count": null,
   "id": "168c8d3a",
   "metadata": {},
   "outputs": [],
   "source": [
    "def makes_twenty(n1,n2):\n",
    "    if n1+n2 == 20 or n1 == 20 or n2 == 20:\n",
    "        return True\n",
    "    else:\n",
    "        return False"
   ]
  },
  {
   "cell_type": "code",
   "execution_count": null,
   "id": "4d16be13",
   "metadata": {},
   "outputs": [],
   "source": [
    "def makes_twenty(n1,n2):\n",
    "    return n1+n2==20 or n1 == 20 or n2 == 20"
   ]
  },
  {
   "cell_type": "code",
   "execution_count": null,
   "id": "75c28110",
   "metadata": {},
   "outputs": [
    {
     "data": {
      "text/plain": [
       "True"
      ]
     },
     "execution_count": 23,
     "metadata": {},
     "output_type": "execute_result"
    }
   ],
   "source": [
    "makes_twenty(12,8)"
   ]
  },
  {
   "cell_type": "code",
   "execution_count": null,
   "id": "57096c1a",
   "metadata": {},
   "outputs": [
    {
     "data": {
      "text/plain": [
       "False"
      ]
     },
     "execution_count": 24,
     "metadata": {},
     "output_type": "execute_result"
    }
   ],
   "source": [
    "makes_twenty(2,3)"
   ]
  },
  {
   "cell_type": "markdown",
   "id": "9f388340",
   "metadata": {},
   "source": [
    "## LEVEL 1 PROBLEMS"
   ]
  },
  {
   "cell_type": "markdown",
   "id": "bbe21f9b",
   "metadata": {},
   "source": [
    "### OLD MACDONALD:"
   ]
  },
  {
   "cell_type": "code",
   "execution_count": null,
   "id": "4aadbd1b",
   "metadata": {},
   "outputs": [],
   "source": [
    "def old_macdonald(name):\n",
    "    \n",
    "    first_letter = name[0]\n",
    "    inbetween_second_letter = name[1:3]\n",
    "    fourth_letter = name[3]\n",
    "    rest_letter = name[4:]\n",
    "    \n",
    "    return first_letter.upper() + inbetween_second_letter + fourth_letter.upper() + rest_letter\n",
    "    "
   ]
  },
  {
   "cell_type": "code",
   "execution_count": null,
   "id": "40e4a5a7",
   "metadata": {},
   "outputs": [
    {
     "data": {
      "text/plain": [
       "'MacDonald'"
      ]
     },
     "execution_count": 43,
     "metadata": {},
     "output_type": "execute_result"
    }
   ],
   "source": [
    "old_macdonald('macdonald')"
   ]
  },
  {
   "cell_type": "code",
   "execution_count": null,
   "id": "f9caca3f",
   "metadata": {},
   "outputs": [],
   "source": [
    "def old_macdonald(name):\n",
    "    \n",
    "    first_half = name[:3]\n",
    "    second_half = name[3:]\n",
    "    \n",
    "    return first_half.capitalize() + second_half.capitalize()\n",
    "    "
   ]
  },
  {
   "cell_type": "code",
   "execution_count": null,
   "id": "f6bbb251",
   "metadata": {},
   "outputs": [
    {
     "data": {
      "text/plain": [
       "'MacDonald'"
      ]
     },
     "execution_count": 45,
     "metadata": {},
     "output_type": "execute_result"
    }
   ],
   "source": [
    "old_macdonald('macdonald')"
   ]
  },
  {
   "cell_type": "markdown",
   "id": "037ef0e9",
   "metadata": {},
   "source": [
    "### MASTER YODA"
   ]
  },
  {
   "cell_type": "code",
   "execution_count": null,
   "id": "30ccec85",
   "metadata": {},
   "outputs": [],
   "source": [
    "def master_yoda(text):\n",
    "    word_list = text.split()\n",
    "    reverse_word_list = word_list[::-1]\n",
    "    return \" \".join(reverse_word_list)\n",
    "#The .join() method allows you to join together strings in a list with some connector string."
   ]
  },
  {
   "cell_type": "code",
   "execution_count": null,
   "id": "26fda244",
   "metadata": {},
   "outputs": [
    {
     "data": {
      "text/plain": [
       "'home am I'"
      ]
     },
     "execution_count": 102,
     "metadata": {},
     "output_type": "execute_result"
    }
   ],
   "source": [
    "master_yoda('I am home')"
   ]
  },
  {
   "cell_type": "code",
   "execution_count": null,
   "id": "4155d25a",
   "metadata": {},
   "outputs": [
    {
     "data": {
      "text/plain": [
       "'ready are We'"
      ]
     },
     "execution_count": 103,
     "metadata": {},
     "output_type": "execute_result"
    }
   ],
   "source": [
    "master_yoda('We are ready')"
   ]
  },
  {
   "cell_type": "markdown",
   "id": "a5dd1757",
   "metadata": {},
   "source": [
    "### ALMOST THERE"
   ]
  },
  {
   "cell_type": "code",
   "execution_count": null,
   "id": "9e12e074",
   "metadata": {},
   "outputs": [],
   "source": [
    "def almost_there(n):\n",
    "      return (abs(100-n) <= 10) or (abs(200-n) <= 10) "
   ]
  },
  {
   "cell_type": "code",
   "execution_count": null,
   "id": "ffc4b12b",
   "metadata": {},
   "outputs": [],
   "source": [
    "# The Python abs() function return the absolute value and remove the negative sign of a number in Python.  "
   ]
  },
  {
   "cell_type": "code",
   "execution_count": null,
   "id": "54b47952",
   "metadata": {},
   "outputs": [
    {
     "data": {
      "text/plain": [
       "True"
      ]
     },
     "execution_count": 98,
     "metadata": {},
     "output_type": "execute_result"
    }
   ],
   "source": [
    "almost_there(104)"
   ]
  },
  {
   "cell_type": "code",
   "execution_count": null,
   "id": "cd9ae469",
   "metadata": {},
   "outputs": [
    {
     "data": {
      "text/plain": [
       "False"
      ]
     },
     "execution_count": 99,
     "metadata": {},
     "output_type": "execute_result"
    }
   ],
   "source": [
    "almost_there(150)"
   ]
  },
  {
   "cell_type": "code",
   "execution_count": null,
   "id": "9bbd4fce",
   "metadata": {},
   "outputs": [
    {
     "data": {
      "text/plain": [
       "True"
      ]
     },
     "execution_count": 100,
     "metadata": {},
     "output_type": "execute_result"
    }
   ],
   "source": [
    "almost_there(209)"
   ]
  },
  {
   "cell_type": "markdown",
   "id": "e5af82d3",
   "metadata": {},
   "source": [
    "## LEVEL 2 PROBLEM"
   ]
  },
  {
   "cell_type": "markdown",
   "id": "ba941b01",
   "metadata": {},
   "source": [
    "### FIND 33:"
   ]
  },
  {
   "cell_type": "code",
   "execution_count": null,
   "id": "41eaeb4f",
   "metadata": {},
   "outputs": [],
   "source": [
    "def has_33(nums):\n",
    "    \n",
    "    for i in range(0,len(nums)-1):\n",
    "        if nums[i] == 3 and nums[i+1] == 3:\n",
    "            return True\n",
    "    return False"
   ]
  },
  {
   "cell_type": "code",
   "execution_count": null,
   "id": "7b9eb3c4",
   "metadata": {},
   "outputs": [
    {
     "data": {
      "text/plain": [
       "True"
      ]
     },
     "execution_count": 116,
     "metadata": {},
     "output_type": "execute_result"
    }
   ],
   "source": [
    "has_33([1, 3, 3])"
   ]
  },
  {
   "cell_type": "code",
   "execution_count": null,
   "id": "84ec5cea",
   "metadata": {},
   "outputs": [
    {
     "data": {
      "text/plain": [
       "False"
      ]
     },
     "execution_count": 117,
     "metadata": {},
     "output_type": "execute_result"
    }
   ],
   "source": [
    "has_33([1, 3, 1, 3])"
   ]
  },
  {
   "cell_type": "code",
   "execution_count": null,
   "id": "b153b7fe",
   "metadata": {},
   "outputs": [
    {
     "data": {
      "text/plain": [
       "False"
      ]
     },
     "execution_count": 118,
     "metadata": {},
     "output_type": "execute_result"
    }
   ],
   "source": [
    "has_33([3, 1, 3])"
   ]
  },
  {
   "cell_type": "code",
   "execution_count": null,
   "id": "edc7983d",
   "metadata": {},
   "outputs": [],
   "source": [
    "def has_33(nums):\n",
    "    \n",
    "    for i in range(0,len(nums)-1):\n",
    "        if nums[i:i+2] == [3,3]:\n",
    "            return True\n",
    "    return False"
   ]
  },
  {
   "cell_type": "code",
   "execution_count": null,
   "id": "7464ee39",
   "metadata": {},
   "outputs": [
    {
     "data": {
      "text/plain": [
       "True"
      ]
     },
     "execution_count": 121,
     "metadata": {},
     "output_type": "execute_result"
    }
   ],
   "source": [
    "has_33([1, 3, 3])"
   ]
  },
  {
   "cell_type": "code",
   "execution_count": null,
   "id": "4593e93a",
   "metadata": {},
   "outputs": [
    {
     "data": {
      "text/plain": [
       "False"
      ]
     },
     "execution_count": 122,
     "metadata": {},
     "output_type": "execute_result"
    }
   ],
   "source": [
    "has_33([3, 1, 3])"
   ]
  },
  {
   "cell_type": "markdown",
   "id": "9208b28c",
   "metadata": {},
   "source": [
    "### PAPER DOLL"
   ]
  },
  {
   "cell_type": "code",
   "execution_count": null,
   "id": "2f7eec3e",
   "metadata": {},
   "outputs": [],
   "source": [
    "def paper_doll(text):\n",
    "    let_list = []\n",
    "    for let in text:\n",
    "        let_list.append(let*3)\n",
    "    return \"\".join(let_list)"
   ]
  },
  {
   "cell_type": "code",
   "execution_count": null,
   "id": "bf3eab0e",
   "metadata": {},
   "outputs": [
    {
     "data": {
      "text/plain": [
       "'HHHeeellllllooo'"
      ]
     },
     "execution_count": 3,
     "metadata": {},
     "output_type": "execute_result"
    }
   ],
   "source": [
    "paper_doll('Hello')"
   ]
  },
  {
   "cell_type": "code",
   "execution_count": null,
   "id": "1e2d5867",
   "metadata": {},
   "outputs": [
    {
     "data": {
      "text/plain": [
       "str"
      ]
     },
     "execution_count": 4,
     "metadata": {},
     "output_type": "execute_result"
    }
   ],
   "source": [
    "type(paper_doll('Mississippi'))"
   ]
  },
  {
   "cell_type": "code",
   "execution_count": null,
   "id": "cf5bad5b",
   "metadata": {},
   "outputs": [],
   "source": [
    "# In question you have to return string but in above program we return list.\n",
    "# but in end I think join convert it in string that is why  we get right answer."
   ]
  },
  {
   "cell_type": "code",
   "execution_count": null,
   "id": "13a861d7",
   "metadata": {},
   "outputs": [],
   "source": [
    "def paper_doll(text):\n",
    "    let_list = ''\n",
    "    for let in text:\n",
    "        let_list += let*3\n",
    "    return let_list"
   ]
  },
  {
   "cell_type": "code",
   "execution_count": null,
   "id": "cda96e0c",
   "metadata": {},
   "outputs": [
    {
     "data": {
      "text/plain": [
       "'HHHeeellllllooo'"
      ]
     },
     "execution_count": 6,
     "metadata": {},
     "output_type": "execute_result"
    }
   ],
   "source": [
    "paper_doll('Hello')"
   ]
  },
  {
   "cell_type": "code",
   "execution_count": null,
   "id": "24ee7315",
   "metadata": {},
   "outputs": [
    {
     "data": {
      "text/plain": [
       "str"
      ]
     },
     "execution_count": 7,
     "metadata": {},
     "output_type": "execute_result"
    }
   ],
   "source": [
    "type(paper_doll('Mississippi'))"
   ]
  },
  {
   "cell_type": "markdown",
   "id": "53997dc4",
   "metadata": {},
   "source": [
    "### BLACKJACK"
   ]
  },
  {
   "cell_type": "code",
   "execution_count": null,
   "id": "beae5f5a",
   "metadata": {},
   "outputs": [],
   "source": [
    "def blackjack(a,b,c):\n",
    "    num = sum([a,b,c])\n",
    "    if num <= 21:\n",
    "        return num\n",
    "    elif 11 in [a,b,c] and num > 21:\n",
    "        return num - 10\n",
    "    else:\n",
    "        return 'BUST'"
   ]
  },
  {
   "cell_type": "code",
   "execution_count": null,
   "id": "c2370a5a",
   "metadata": {},
   "outputs": [
    {
     "data": {
      "text/plain": [
       "18"
      ]
     },
     "execution_count": 162,
     "metadata": {},
     "output_type": "execute_result"
    }
   ],
   "source": [
    "blackjack(5,6,7)"
   ]
  },
  {
   "cell_type": "code",
   "execution_count": null,
   "id": "2899fc20",
   "metadata": {},
   "outputs": [
    {
     "data": {
      "text/plain": [
       "'BUST'"
      ]
     },
     "execution_count": 163,
     "metadata": {},
     "output_type": "execute_result"
    }
   ],
   "source": [
    "blackjack(9,9,9)"
   ]
  },
  {
   "cell_type": "code",
   "execution_count": null,
   "id": "278997be",
   "metadata": {},
   "outputs": [
    {
     "data": {
      "text/plain": [
       "19"
      ]
     },
     "execution_count": 164,
     "metadata": {},
     "output_type": "execute_result"
    }
   ],
   "source": [
    "blackjack(9,9,11)"
   ]
  },
  {
   "cell_type": "markdown",
   "id": "6516e36f",
   "metadata": {},
   "source": [
    "### SUMMER OF '69:"
   ]
  },
  {
   "cell_type": "code",
   "execution_count": null,
   "id": "6f3828e5",
   "metadata": {},
   "outputs": [],
   "source": [
    "def summer_69(arr):\n",
    "    \n",
    "    total = 0 \n",
    "    add = True\n",
    "    \n",
    "    for num in arr:\n",
    "        while add:\n",
    "            if num!=6:\n",
    "                total += num\n",
    "                break\n",
    "            else:\n",
    "                add = False\n",
    "        while not add:\n",
    "            if num != 9:\n",
    "                break\n",
    "            else:\n",
    "                add = True\n",
    "                break\n",
    "    return total\n",
    "        \n",
    "    "
   ]
  },
  {
   "cell_type": "code",
   "execution_count": null,
   "id": "7dd598d6",
   "metadata": {},
   "outputs": [
    {
     "data": {
      "text/plain": [
       "9"
      ]
     },
     "execution_count": 170,
     "metadata": {},
     "output_type": "execute_result"
    }
   ],
   "source": [
    "summer_69([1, 3, 5])\n"
   ]
  },
  {
   "cell_type": "code",
   "execution_count": null,
   "id": "4573babd",
   "metadata": {},
   "outputs": [
    {
     "data": {
      "text/plain": [
       "20"
      ]
     },
     "execution_count": 173,
     "metadata": {},
     "output_type": "execute_result"
    }
   ],
   "source": [
    "summer_69([4, 5, 6, 7, 8, 9, 11])"
   ]
  },
  {
   "cell_type": "code",
   "execution_count": null,
   "id": "876769ab",
   "metadata": {},
   "outputs": [
    {
     "data": {
      "text/plain": [
       "14"
      ]
     },
     "execution_count": 172,
     "metadata": {},
     "output_type": "execute_result"
    }
   ],
   "source": [
    "summer_69([2, 1, 6, 9, 11])"
   ]
  },
  {
   "cell_type": "markdown",
   "id": "436dbfa6",
   "metadata": {},
   "source": [
    "## CHALLENGING PROBLEMS:"
   ]
  },
  {
   "cell_type": "markdown",
   "id": "cc1b46b3",
   "metadata": {},
   "source": [
    "### SPY GAME:"
   ]
  },
  {
   "cell_type": "code",
   "execution_count": null,
   "id": "f48a2567",
   "metadata": {},
   "outputs": [],
   "source": [
    "def spy_game(nums):\n",
    "    \n",
    "    code = [0,0,7,'x']\n",
    "    # [0,7,'x']\n",
    "    # [7,'x']\n",
    "    # ['x']\n",
    "    for num in nums:\n",
    "        if num == code[0]:\n",
    "            code.pop(0)\n",
    "            \n",
    "    return len(code) == 1"
   ]
  },
  {
   "cell_type": "code",
   "execution_count": null,
   "id": "83a00f19",
   "metadata": {},
   "outputs": [
    {
     "data": {
      "text/plain": [
       "True"
      ]
     },
     "execution_count": 181,
     "metadata": {},
     "output_type": "execute_result"
    }
   ],
   "source": [
    "spy_game([1,2,4,0,0,7,5])"
   ]
  },
  {
   "cell_type": "code",
   "execution_count": null,
   "id": "1311a934",
   "metadata": {},
   "outputs": [
    {
     "data": {
      "text/plain": [
       "True"
      ]
     },
     "execution_count": 182,
     "metadata": {},
     "output_type": "execute_result"
    }
   ],
   "source": [
    "spy_game([1,0,2,4,0,5,7])"
   ]
  },
  {
   "cell_type": "code",
   "execution_count": null,
   "id": "24963369",
   "metadata": {},
   "outputs": [
    {
     "data": {
      "text/plain": [
       "False"
      ]
     },
     "execution_count": 183,
     "metadata": {},
     "output_type": "execute_result"
    }
   ],
   "source": [
    "spy_game([1,7,2,0,4,5,0])"
   ]
  },
  {
   "cell_type": "markdown",
   "id": "d3a2cd0c",
   "metadata": {},
   "source": [
    "### COUNT PRIMES:"
   ]
  },
  {
   "cell_type": "code",
   "execution_count": null,
   "id": "9ca2ee50",
   "metadata": {},
   "outputs": [],
   "source": [
    "def count_primes(num):\n",
    "    \n",
    "    # check for 0 or 1 input \n",
    "    if num < 2:\n",
    "        return 0\n",
    "    ##############\n",
    "    # 2 or greater\n",
    "    ##############\n",
    "    \n",
    "    # Store our prime numbers\n",
    "    primes = [2]\n",
    "    # Counter going up to the input num\n",
    "    x = 3\n",
    "    \n",
    "    while x <= num:\n",
    "        for y in  range(3,x,2):\n",
    "            if x%y == 0:\n",
    "                x += 2\n",
    "                break\n",
    "        else:\n",
    "                primes.append(x)\n",
    "                x += 2\n",
    "    print(primes)\n",
    "    return len(primes)"
   ]
  },
  {
   "cell_type": "code",
   "execution_count": null,
   "id": "50684959",
   "metadata": {},
   "outputs": [
    {
     "name": "stdout",
     "output_type": "stream",
     "text": [
      "[2, 3, 5, 7, 11, 13, 17, 19, 23, 29, 31, 37, 41, 43, 47, 53, 59, 61, 67, 71, 73, 79, 83, 89, 97]\n"
     ]
    },
    {
     "data": {
      "text/plain": [
       "25"
      ]
     },
     "execution_count": 2,
     "metadata": {},
     "output_type": "execute_result"
    }
   ],
   "source": [
    "count_primes(100)"
   ]
  },
  {
   "cell_type": "code",
   "execution_count": null,
   "id": "71901916",
   "metadata": {},
   "outputs": [],
   "source": [
    "def count_primes(num):\n",
    "    \n",
    "    # check for 0 or 1 input \n",
    "    if num < 2:\n",
    "        return 0\n",
    "    ##############\n",
    "    # 2 or greater\n",
    "    ##############\n",
    "    \n",
    "    # Store our prime numbers\n",
    "    primes = [2]\n",
    "    # Counter going up to the input num\n",
    "    x = 3\n",
    "    \n",
    "    while x <= num:\n",
    "        for y in primes:\n",
    "            if x%y == 0:\n",
    "                x += 2\n",
    "                break\n",
    "        else:\n",
    "                primes.append(x)\n",
    "                x += 2\n",
    "    print(primes)\n",
    "    return len(primes)\n"
   ]
  },
  {
   "cell_type": "code",
   "execution_count": null,
   "id": "dc48f949",
   "metadata": {},
   "outputs": [
    {
     "name": "stdout",
     "output_type": "stream",
     "text": [
      "[2, 3, 5, 7, 11, 13, 17, 19, 23, 29, 31, 37, 41, 43, 47, 53, 59, 61, 67, 71, 73, 79, 83, 89, 97]\n"
     ]
    },
    {
     "data": {
      "text/plain": [
       "25"
      ]
     },
     "execution_count": 192,
     "metadata": {},
     "output_type": "execute_result"
    }
   ],
   "source": [
    "count_primes(100)"
   ]
  },
  {
   "cell_type": "markdown",
   "id": "4013ea33",
   "metadata": {},
   "source": [
    "## Just for fun:\n",
    "### PRINT BIG"
   ]
  },
  {
   "cell_type": "code",
   "execution_count": null,
   "id": "f6c9e612",
   "metadata": {},
   "outputs": [],
   "source": [
    "def print_big(letter):\n",
    "    patterns = {1:'  *  ',2:' * * ',3:'*   *',4:'*****',5:'**** ',6:'   * ',7:' *   ',8:'*  * ',9:'*    '}\n",
    "    alphabet = {'A':[1,2,4,3,3],'B':[5,3,5,3,5],'C':[4,9,9,9,4],'D':[5,3,3,3,5],'E':[4,9,4,9,4]}\n",
    "    for pattern in alphabet[letter.upper()]:\n",
    "        print(patterns[pattern])"
   ]
  },
  {
   "cell_type": "code",
   "execution_count": null,
   "id": "ebbae16d",
   "metadata": {},
   "outputs": [
    {
     "name": "stdout",
     "output_type": "stream",
     "text": [
      "*****\n",
      "*    \n",
      "*****\n",
      "*    \n",
      "*****\n"
     ]
    }
   ],
   "source": [
    "print_big('E')"
   ]
  },
  {
   "cell_type": "markdown",
   "id": "2af8b4b7",
   "metadata": {},
   "source": [
    "## THE END"
   ]
  },
  {
   "cell_type": "markdown",
   "id": "eb16fc71",
   "metadata": {},
   "source": [
    " "
   ]
  },
  {
   "cell_type": "markdown",
   "id": "9e1037ba",
   "metadata": {},
   "source": [
    "## Pattern Programs G.F.G:"
   ]
  },
  {
   "cell_type": "code",
   "execution_count": null,
   "id": "6fe63718",
   "metadata": {},
   "outputs": [],
   "source": [
    "#1 \n",
    "def pypart(n):\n",
    "    for i in range(0,n):\n",
    "        for j in range(0,i+1):\n",
    "            print(\"* \",end = \"\")\n",
    "        print(\"\\r\")"
   ]
  },
  {
   "cell_type": "code",
   "execution_count": null,
   "id": "6a747380",
   "metadata": {},
   "outputs": [
    {
     "name": "stdout",
     "output_type": "stream",
     "text": [
      "* \r\n",
      "* * \r\n",
      "* * * \r\n",
      "* * * * \r\n",
      "* * * * * \r\n"
     ]
    }
   ],
   "source": [
    "pypart(5)"
   ]
  },
  {
   "cell_type": "code",
   "execution_count": null,
   "id": "85f4a5c7",
   "metadata": {},
   "outputs": [],
   "source": [
    "#2\n",
    "def pypart(n):\n",
    "    mylist = []\n",
    "    for i in range(1,n+1):\n",
    "        mylist.append(\"*\"*i)\n",
    "    print(\"\\n\".join(mylist))"
   ]
  },
  {
   "cell_type": "code",
   "execution_count": null,
   "id": "08c1c05b",
   "metadata": {},
   "outputs": [
    {
     "name": "stdout",
     "output_type": "stream",
     "text": [
      "*\n",
      "**\n",
      "***\n",
      "****\n",
      "*****\n"
     ]
    }
   ],
   "source": [
    "pypart(5)"
   ]
  },
  {
   "cell_type": "code",
   "execution_count": null,
   "id": "b53b8277",
   "metadata": {},
   "outputs": [
    {
     "name": "stdout",
     "output_type": "stream",
     "text": [
      "     *\n",
      "    ***\n",
      "   *****\n",
      "  *******\n",
      " *********\n",
      "***********\n"
     ]
    }
   ],
   "source": [
    "n = 5; i=0\n",
    "while(i<=n):\n",
    "    print(\" \"*(n-i) + \"*\"*i + \"*\"*(i+1))\n",
    "    i += 1"
   ]
  },
  {
   "cell_type": "code",
   "execution_count": 14,
   "id": "d9482338",
   "metadata": {},
   "outputs": [
    {
     "name": "stdout",
     "output_type": "stream",
     "text": [
      " ***********\n",
      "  *********\n",
      "   *******\n",
      "    *****\n",
      "     ***\n",
      "      *\n"
     ]
    }
   ],
   "source": [
    "n = 5; i=0\n",
    "while(i<=n):\n",
    "    print(\" \"*(i+1) + \"*\"*(n-i) + \"*\"*(n-i+1) )\n",
    "    i += 1"
   ]
  },
  {
   "cell_type": "markdown",
   "id": "48e5376d",
   "metadata": {},
   "source": [
    "## YouTube Video On Pattern"
   ]
  },
  {
   "cell_type": "code",
   "execution_count": 15,
   "id": "84450200",
   "metadata": {},
   "outputs": [
    {
     "name": "stdout",
     "output_type": "stream",
     "text": [
      "$ $ $ $ $ \n",
      "$ $ $ $ $ \n",
      "$ $ $ $ $ \n",
      "$ $ $ $ $ \n",
      "$ $ $ $ $ \n"
     ]
    }
   ],
   "source": [
    "#1\n",
    "n = 5 \n",
    "for i in range(n):\n",
    "    for j in range(n):\n",
    "        print('$',end = ' ')\n",
    "    print()"
   ]
  },
  {
   "cell_type": "code",
   "execution_count": 20,
   "id": "0bb68460",
   "metadata": {},
   "outputs": [
    {
     "name": "stdout",
     "output_type": "stream",
     "text": [
      "* \n",
      "* * \n",
      "* * * \n",
      "* * * * \n",
      "* * * * * \n"
     ]
    }
   ],
   "source": [
    "#2\n",
    "n = 5\n",
    "for i in range(n):\n",
    "    for j in range(i+1):\n",
    "        print('*', end = ' ')\n",
    "    print()"
   ]
  },
  {
   "cell_type": "code",
   "execution_count": 27,
   "id": "21b9461d",
   "metadata": {},
   "outputs": [
    {
     "name": "stdout",
     "output_type": "stream",
     "text": [
      "* * * * * \n",
      "* * * * \n",
      "* * * \n",
      "* * \n",
      "* \n"
     ]
    }
   ],
   "source": [
    "n = 5\n",
    "for i in range(n):\n",
    "    for j in range(i,n):\n",
    "        print('*', end = ' ')\n",
    "    print()\n",
    "    "
   ]
  },
  {
   "cell_type": "code",
   "execution_count": 29,
   "id": "2e6d5557",
   "metadata": {},
   "outputs": [
    {
     "name": "stdout",
     "output_type": "stream",
     "text": [
      "          * \n",
      "        * * \n",
      "      * * * \n",
      "    * * * * \n",
      "  * * * * * \n"
     ]
    }
   ],
   "source": [
    "#3\n",
    "n = 5\n",
    "for i in range(n):\n",
    "    for j in range(i,n):\n",
    "        print(' ',end = ' ')\n",
    "    for j in range(i+1):\n",
    "        print('*',end = ' ')\n",
    "    print()"
   ]
  },
  {
   "cell_type": "code",
   "execution_count": 31,
   "id": "04831a01",
   "metadata": {},
   "outputs": [
    {
     "name": "stdout",
     "output_type": "stream",
     "text": [
      "  * * * * * \n",
      "    * * * * \n",
      "      * * * \n",
      "        * * \n",
      "          * \n"
     ]
    }
   ],
   "source": [
    "#4 \n",
    "n = 5\n",
    "for i in range(n):\n",
    "    for j in range(i+1):\n",
    "        print(' ',end=' ')\n",
    "    for j in range(i,n):\n",
    "        print('*',end=' ')\n",
    "    print()"
   ]
  },
  {
   "cell_type": "code",
   "execution_count": 32,
   "id": "82614260",
   "metadata": {},
   "outputs": [
    {
     "name": "stdout",
     "output_type": "stream",
     "text": [
      "          * \n",
      "        * * * \n",
      "      * * * * * \n",
      "    * * * * * * * \n",
      "  * * * * * * * * * \n"
     ]
    }
   ],
   "source": [
    "#5\n",
    "for i in range(n):\n",
    "    for j in range(i,n):\n",
    "        print(' ',end = ' ')\n",
    "    for j in range(i):\n",
    "        print('*',end = ' ')\n",
    "    for j in range(i+1):\n",
    "        print('*',end = ' ')\n",
    "    \n",
    "    print()"
   ]
  },
  {
   "cell_type": "code",
   "execution_count": 33,
   "id": "10b5a051",
   "metadata": {},
   "outputs": [
    {
     "name": "stdout",
     "output_type": "stream",
     "text": [
      "  * * * * * * * * * \n",
      "    * * * * * * * \n",
      "      * * * * * \n",
      "        * * * \n",
      "          * \n"
     ]
    }
   ],
   "source": [
    "#6\n",
    "for i in range(n):\n",
    "    for j in range(i+1):\n",
    "        print(' ',end= ' ')\n",
    "    for j in range(i,n-1):\n",
    "        print('*',end= ' ')\n",
    "    for j in range(i,n):\n",
    "        print('*',end= ' ')\n",
    "    print()"
   ]
  },
  {
   "cell_type": "code",
   "execution_count": null,
   "id": "1ee0e7ba",
   "metadata": {},
   "outputs": [],
   "source": []
  }
 ],
 "metadata": {
  "kernelspec": {
   "display_name": "Python 3 (ipykernel)",
   "language": "python",
   "name": "python3"
  },
  "language_info": {
   "codemirror_mode": {
    "name": "ipython",
    "version": 3
   },
   "file_extension": ".py",
   "mimetype": "text/x-python",
   "name": "python",
   "nbconvert_exporter": "python",
   "pygments_lexer": "ipython3",
   "version": "3.9.13"
  }
 },
 "nbformat": 4,
 "nbformat_minor": 5
}
