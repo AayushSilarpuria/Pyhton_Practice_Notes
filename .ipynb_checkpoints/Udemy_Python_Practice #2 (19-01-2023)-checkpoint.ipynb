{
 "cells": [
  {
   "cell_type": "markdown",
   "id": "c8929eba",
   "metadata": {},
   "source": [
    "# Udemy Complete Python Bootcamp From Zero to Hero \n",
    "# - By Jose Portilla"
   ]
  },
  {
   "cell_type": "markdown",
   "id": "cda8195e",
   "metadata": {},
   "source": [
    "## L:41 - Methods & the python Doc:"
   ]
  },
  {
   "cell_type": "code",
   "execution_count": 27,
   "id": "871bf1ee",
   "metadata": {},
   "outputs": [
    {
     "data": {
      "text/plain": [
       "4"
      ]
     },
     "execution_count": 27,
     "metadata": {},
     "output_type": "execute_result"
    }
   ],
   "source": [
    "mylist = [1,2,3,4]\n",
    "mylist.pop()"
   ]
  },
  {
   "cell_type": "code",
   "execution_count": 33,
   "id": "daf6c5d4",
   "metadata": {},
   "outputs": [],
   "source": [
    "mylist.insert(len(mylist),122)\n"
   ]
  },
  {
   "cell_type": "code",
   "execution_count": 34,
   "id": "decca11b",
   "metadata": {},
   "outputs": [
    {
     "data": {
      "text/plain": [
       "[1, 2, 3, 11, 10, 122]"
      ]
     },
     "execution_count": 34,
     "metadata": {},
     "output_type": "execute_result"
    }
   ],
   "source": [
    "mylist"
   ]
  },
  {
   "cell_type": "code",
   "execution_count": 32,
   "id": "ffc19cfe",
   "metadata": {},
   "outputs": [
    {
     "name": "stdout",
     "output_type": "stream",
     "text": [
      "Help on built-in function insert:\n",
      "\n",
      "insert(index, object, /) method of builtins.list instance\n",
      "    Insert object before index.\n",
      "\n"
     ]
    }
   ],
   "source": [
    "help(mylist.insert)"
   ]
  },
  {
   "cell_type": "markdown",
   "id": "37eec2a1",
   "metadata": {},
   "source": [
    "## L:44 - Basics of Python Function"
   ]
  },
  {
   "cell_type": "code",
   "execution_count": 38,
   "id": "4315f995",
   "metadata": {},
   "outputs": [],
   "source": [
    "def say_hello():\n",
    "    print(\"Hello\")\n",
    "    print('are')\n",
    "    print('you')"
   ]
  },
  {
   "cell_type": "code",
   "execution_count": 39,
   "id": "eb6467a8",
   "metadata": {},
   "outputs": [
    {
     "name": "stdout",
     "output_type": "stream",
     "text": [
      "Hello\n",
      "are\n",
      "you\n"
     ]
    }
   ],
   "source": [
    "say_hello()"
   ]
  },
  {
   "cell_type": "code",
   "execution_count": 40,
   "id": "27e9aab4",
   "metadata": {},
   "outputs": [],
   "source": [
    "def say_hello(name):\n",
    "    print(f'Hello {name}')"
   ]
  },
  {
   "cell_type": "code",
   "execution_count": 41,
   "id": "73be0394",
   "metadata": {},
   "outputs": [
    {
     "name": "stdout",
     "output_type": "stream",
     "text": [
      "Hello Ayush\n"
     ]
    }
   ],
   "source": [
    "say_hello('Ayush')"
   ]
  },
  {
   "cell_type": "code",
   "execution_count": 42,
   "id": "d8019e63",
   "metadata": {},
   "outputs": [],
   "source": [
    "def say_hello(name = 'Default'):\n",
    "    print(f'Hello {name}')"
   ]
  },
  {
   "cell_type": "code",
   "execution_count": 43,
   "id": "84d394ea",
   "metadata": {},
   "outputs": [
    {
     "name": "stdout",
     "output_type": "stream",
     "text": [
      "Hello Default\n"
     ]
    }
   ],
   "source": [
    "say_hello()"
   ]
  },
  {
   "cell_type": "code",
   "execution_count": 44,
   "id": "48353bf4",
   "metadata": {},
   "outputs": [],
   "source": [
    "def add_num(num1,num2):\n",
    "    return num1+num2"
   ]
  },
  {
   "cell_type": "code",
   "execution_count": 45,
   "id": "6026b6c2",
   "metadata": {},
   "outputs": [],
   "source": [
    "result = add_num(10,20)"
   ]
  },
  {
   "cell_type": "code",
   "execution_count": 46,
   "id": "a07a9f03",
   "metadata": {},
   "outputs": [
    {
     "data": {
      "text/plain": [
       "30"
      ]
     },
     "execution_count": 46,
     "metadata": {},
     "output_type": "execute_result"
    }
   ],
   "source": [
    "result"
   ]
  },
  {
   "cell_type": "code",
   "execution_count": 47,
   "id": "2338dc6b",
   "metadata": {},
   "outputs": [],
   "source": [
    "def print_result(a,b):\n",
    "    print(a+b)"
   ]
  },
  {
   "cell_type": "code",
   "execution_count": 48,
   "id": "ff763f7b",
   "metadata": {},
   "outputs": [],
   "source": [
    "def return_result(a,b):\n",
    "    return(a+b)"
   ]
  },
  {
   "cell_type": "code",
   "execution_count": 49,
   "id": "a2b2d710",
   "metadata": {},
   "outputs": [
    {
     "name": "stdout",
     "output_type": "stream",
     "text": [
      "30\n"
     ]
    }
   ],
   "source": [
    "result = print_result(10,20)"
   ]
  },
  {
   "cell_type": "code",
   "execution_count": 50,
   "id": "822c6d34",
   "metadata": {},
   "outputs": [],
   "source": [
    "result"
   ]
  },
  {
   "cell_type": "code",
   "execution_count": 51,
   "id": "46163c58",
   "metadata": {},
   "outputs": [
    {
     "data": {
      "text/plain": [
       "NoneType"
      ]
     },
     "execution_count": 51,
     "metadata": {},
     "output_type": "execute_result"
    }
   ],
   "source": [
    "type(result)"
   ]
  },
  {
   "cell_type": "code",
   "execution_count": 52,
   "id": "c9644e85",
   "metadata": {},
   "outputs": [],
   "source": [
    "result = return_result(10,20)"
   ]
  },
  {
   "cell_type": "code",
   "execution_count": 53,
   "id": "44fde6e9",
   "metadata": {},
   "outputs": [
    {
     "data": {
      "text/plain": [
       "30"
      ]
     },
     "execution_count": 53,
     "metadata": {},
     "output_type": "execute_result"
    }
   ],
   "source": [
    "result"
   ]
  },
  {
   "cell_type": "code",
   "execution_count": 54,
   "id": "928a153d",
   "metadata": {},
   "outputs": [
    {
     "data": {
      "text/plain": [
       "int"
      ]
     },
     "execution_count": 54,
     "metadata": {},
     "output_type": "execute_result"
    }
   ],
   "source": [
    "type(result)"
   ]
  },
  {
   "cell_type": "code",
   "execution_count": 55,
   "id": "3411c34c",
   "metadata": {},
   "outputs": [],
   "source": [
    "def myfunc(a,b):\n",
    "    print(a+b)\n",
    "    return a+b"
   ]
  },
  {
   "cell_type": "code",
   "execution_count": 56,
   "id": "83457960",
   "metadata": {},
   "outputs": [
    {
     "name": "stdout",
     "output_type": "stream",
     "text": [
      "30\n"
     ]
    }
   ],
   "source": [
    "result = myfunc(10,20)"
   ]
  },
  {
   "cell_type": "code",
   "execution_count": 57,
   "id": "4e2e7de8",
   "metadata": {},
   "outputs": [
    {
     "data": {
      "text/plain": [
       "30"
      ]
     },
     "execution_count": 57,
     "metadata": {},
     "output_type": "execute_result"
    }
   ],
   "source": [
    "result"
   ]
  },
  {
   "cell_type": "code",
   "execution_count": 58,
   "id": "0b68d472",
   "metadata": {},
   "outputs": [],
   "source": [
    "def sum_num(n1,n2):\n",
    "    return n1+n2"
   ]
  },
  {
   "cell_type": "code",
   "execution_count": 59,
   "id": "ffd2e88b",
   "metadata": {},
   "outputs": [
    {
     "data": {
      "text/plain": [
       "30"
      ]
     },
     "execution_count": 59,
     "metadata": {},
     "output_type": "execute_result"
    }
   ],
   "source": [
    "sum_num(10,20)"
   ]
  },
  {
   "cell_type": "code",
   "execution_count": 60,
   "id": "bd7a4d1e",
   "metadata": {},
   "outputs": [
    {
     "data": {
      "text/plain": [
       "'1020'"
      ]
     },
     "execution_count": 60,
     "metadata": {},
     "output_type": "execute_result"
    }
   ],
   "source": [
    "sum_num('10','20')"
   ]
  },
  {
   "cell_type": "markdown",
   "id": "614848a4",
   "metadata": {},
   "source": [
    " ## L:45 - Logic with Python Function"
   ]
  },
  {
   "cell_type": "code",
   "execution_count": 61,
   "id": "b403f85a",
   "metadata": {},
   "outputs": [],
   "source": [
    "def even_check(number):\n",
    "    result = number % 2 == 0 \n",
    "    return result"
   ]
  },
  {
   "cell_type": "code",
   "execution_count": 62,
   "id": "9486caf8",
   "metadata": {},
   "outputs": [
    {
     "data": {
      "text/plain": [
       "True"
      ]
     },
     "execution_count": 62,
     "metadata": {},
     "output_type": "execute_result"
    }
   ],
   "source": [
    "even_check(20)"
   ]
  },
  {
   "cell_type": "code",
   "execution_count": 63,
   "id": "331db888",
   "metadata": {},
   "outputs": [
    {
     "data": {
      "text/plain": [
       "False"
      ]
     },
     "execution_count": 63,
     "metadata": {},
     "output_type": "execute_result"
    }
   ],
   "source": [
    "even_check(31)"
   ]
  },
  {
   "cell_type": "code",
   "execution_count": 64,
   "id": "7c83943a",
   "metadata": {},
   "outputs": [],
   "source": [
    "def even_check(number):\n",
    "     return number % 2 == 0 "
   ]
  },
  {
   "cell_type": "code",
   "execution_count": 65,
   "id": "40aa318a",
   "metadata": {},
   "outputs": [
    {
     "data": {
      "text/plain": [
       "True"
      ]
     },
     "execution_count": 65,
     "metadata": {},
     "output_type": "execute_result"
    }
   ],
   "source": [
    "even_check(22)"
   ]
  },
  {
   "cell_type": "code",
   "execution_count": 66,
   "id": "b8f102d1",
   "metadata": {},
   "outputs": [],
   "source": [
    "# RETURN TRUE IF ANY NUMBER IS EVEN INSIDE A LIST"
   ]
  },
  {
   "cell_type": "code",
   "execution_count": 1,
   "id": "75ba8dbb",
   "metadata": {},
   "outputs": [],
   "source": [
    "def check_even_list(num_l):\n",
    "    \n",
    "    for num in num_l:\n",
    "        if num % 2 ==0:\n",
    "            return True\n",
    "        else:\n",
    "            pass\n",
    "    \n",
    "    return False"
   ]
  },
  {
   "cell_type": "code",
   "execution_count": 2,
   "id": "580c39a8",
   "metadata": {},
   "outputs": [
    {
     "data": {
      "text/plain": [
       "True"
      ]
     },
     "execution_count": 2,
     "metadata": {},
     "output_type": "execute_result"
    }
   ],
   "source": [
    "check_even_list([1,2,3,4])"
   ]
  },
  {
   "cell_type": "code",
   "execution_count": 3,
   "id": "7be5c475",
   "metadata": {},
   "outputs": [
    {
     "data": {
      "text/plain": [
       "False"
      ]
     },
     "execution_count": 3,
     "metadata": {},
     "output_type": "execute_result"
    }
   ],
   "source": [
    "check_even_list([3,5,7])"
   ]
  },
  {
   "cell_type": "code",
   "execution_count": 70,
   "id": "405006ea",
   "metadata": {},
   "outputs": [],
   "source": [
    "# RETURN ALL THE EVEN NUMBER IN A LIST"
   ]
  },
  {
   "cell_type": "code",
   "execution_count": 71,
   "id": "dcae889b",
   "metadata": {},
   "outputs": [],
   "source": [
    "def check_e_l(num_l):\n",
    "    \n",
    "    #placeholder variables\n",
    "    even_number = []\n",
    "    \n",
    "    for num in num_l:\n",
    "        if num % 2 == 0:\n",
    "            even_number.append(num)\n",
    "        else:\n",
    "            pass\n",
    "    return even_number"
   ]
  },
  {
   "cell_type": "code",
   "execution_count": 72,
   "id": "37962105",
   "metadata": {},
   "outputs": [
    {
     "data": {
      "text/plain": [
       "[2, 4]"
      ]
     },
     "execution_count": 72,
     "metadata": {},
     "output_type": "execute_result"
    }
   ],
   "source": [
    "check_e_l([1,2,3,4,5])"
   ]
  },
  {
   "cell_type": "code",
   "execution_count": 73,
   "id": "01f50a7c",
   "metadata": {},
   "outputs": [
    {
     "data": {
      "text/plain": [
       "[]"
      ]
     },
     "execution_count": 73,
     "metadata": {},
     "output_type": "execute_result"
    }
   ],
   "source": [
    "check_e_l([1,3,5])"
   ]
  },
  {
   "cell_type": "markdown",
   "id": "8a71d60a",
   "metadata": {},
   "source": [
    "## L:46 - Function & Tuple Unpacking"
   ]
  },
  {
   "cell_type": "code",
   "execution_count": 74,
   "id": "0ebb3087",
   "metadata": {},
   "outputs": [],
   "source": [
    "stock_prices = [('Appl',200),('Googl',400),('MS',100)]"
   ]
  },
  {
   "cell_type": "code",
   "execution_count": 75,
   "id": "b3f89f80",
   "metadata": {},
   "outputs": [
    {
     "name": "stdout",
     "output_type": "stream",
     "text": [
      "('Appl', 200)\n",
      "('Googl', 400)\n",
      "('MS', 100)\n"
     ]
    }
   ],
   "source": [
    "for item in stock_prices:\n",
    "    print(item)"
   ]
  },
  {
   "cell_type": "code",
   "execution_count": 76,
   "id": "6e4d3cc3",
   "metadata": {},
   "outputs": [
    {
     "name": "stdout",
     "output_type": "stream",
     "text": [
      "220.0\n",
      "440.0\n",
      "110.0\n"
     ]
    }
   ],
   "source": [
    "for tic,price in stock_prices:\n",
    "    print(price+(0.1*price))"
   ]
  },
  {
   "cell_type": "code",
   "execution_count": 37,
   "id": "f967b5e3",
   "metadata": {},
   "outputs": [],
   "source": [
    "work_hours = [('Abby',1000),('Billy',400),('Cassie',800)]"
   ]
  },
  {
   "cell_type": "code",
   "execution_count": 38,
   "id": "26319697",
   "metadata": {},
   "outputs": [],
   "source": [
    "def emp_check(work_hours):\n",
    "    \n",
    "    current_max = 0\n",
    "    employee_of_month = ''\n",
    "    \n",
    "    for emp,hour in work_hours:\n",
    "        if hour > current_max:\n",
    "            current_max = hour\n",
    "            employee_of_month = emp\n",
    "        # else condition does not change anything in program\n",
    "        else:\n",
    "            pass\n",
    "    #RETURN\n",
    "    return (employee_of_month,current_max)"
   ]
  },
  {
   "cell_type": "code",
   "execution_count": 39,
   "id": "06e40f1a",
   "metadata": {},
   "outputs": [
    {
     "data": {
      "text/plain": [
       "('Abby', 1000)"
      ]
     },
     "execution_count": 39,
     "metadata": {},
     "output_type": "execute_result"
    }
   ],
   "source": [
    "emp_check(work_hours)"
   ]
  },
  {
   "cell_type": "code",
   "execution_count": 80,
   "id": "2614201d",
   "metadata": {},
   "outputs": [],
   "source": [
    "result = emp_check(work_hours)"
   ]
  },
  {
   "cell_type": "code",
   "execution_count": 81,
   "id": "7b3fad66",
   "metadata": {},
   "outputs": [
    {
     "data": {
      "text/plain": [
       "('Abby', 1000)"
      ]
     },
     "execution_count": 81,
     "metadata": {},
     "output_type": "execute_result"
    }
   ],
   "source": [
    "result"
   ]
  },
  {
   "cell_type": "code",
   "execution_count": 82,
   "id": "996125b6",
   "metadata": {},
   "outputs": [],
   "source": [
    "name,hours = emp_check(work_hours)"
   ]
  },
  {
   "cell_type": "code",
   "execution_count": 83,
   "id": "c7f1e837",
   "metadata": {},
   "outputs": [
    {
     "data": {
      "text/plain": [
       "'Abby'"
      ]
     },
     "execution_count": 83,
     "metadata": {},
     "output_type": "execute_result"
    }
   ],
   "source": [
    "name"
   ]
  },
  {
   "cell_type": "code",
   "execution_count": 84,
   "id": "5fcdf55a",
   "metadata": {},
   "outputs": [
    {
     "data": {
      "text/plain": [
       "1000"
      ]
     },
     "execution_count": 84,
     "metadata": {},
     "output_type": "execute_result"
    }
   ],
   "source": [
    "hours"
   ]
  },
  {
   "cell_type": "markdown",
   "id": "b299b78a",
   "metadata": {},
   "source": [
    "## L:47 - Interaction Between Python Function"
   ]
  },
  {
   "cell_type": "code",
   "execution_count": 85,
   "id": "9aa32aaf",
   "metadata": {},
   "outputs": [],
   "source": [
    "exm = [1,2,3,4,5,6,7,8]"
   ]
  },
  {
   "cell_type": "code",
   "execution_count": 86,
   "id": "4cb81596",
   "metadata": {},
   "outputs": [],
   "source": [
    "from random import shuffle"
   ]
  },
  {
   "cell_type": "code",
   "execution_count": 87,
   "id": "f36383a2",
   "metadata": {},
   "outputs": [],
   "source": [
    "shuffle(exm)"
   ]
  },
  {
   "cell_type": "code",
   "execution_count": 88,
   "id": "eb2193d0",
   "metadata": {},
   "outputs": [
    {
     "data": {
      "text/plain": [
       "[3, 5, 4, 6, 1, 7, 2, 8]"
      ]
     },
     "execution_count": 88,
     "metadata": {},
     "output_type": "execute_result"
    }
   ],
   "source": [
    "exm"
   ]
  },
  {
   "cell_type": "code",
   "execution_count": 89,
   "id": "b385832a",
   "metadata": {},
   "outputs": [],
   "source": [
    "def shuffle_list(mylist):\n",
    "    shuffle(mylist)\n",
    "    return mylist"
   ]
  },
  {
   "cell_type": "code",
   "execution_count": 90,
   "id": "efe3d425",
   "metadata": {},
   "outputs": [],
   "source": [
    "result = shuffle_list(exm)"
   ]
  },
  {
   "cell_type": "code",
   "execution_count": 91,
   "id": "67e25e9d",
   "metadata": {},
   "outputs": [
    {
     "data": {
      "text/plain": [
       "[5, 7, 1, 3, 6, 8, 2, 4]"
      ]
     },
     "execution_count": 91,
     "metadata": {},
     "output_type": "execute_result"
    }
   ],
   "source": [
    "result"
   ]
  },
  {
   "cell_type": "code",
   "execution_count": 92,
   "id": "0ae64200",
   "metadata": {},
   "outputs": [],
   "source": [
    "mylist = [' ','O',' ']"
   ]
  },
  {
   "cell_type": "code",
   "execution_count": 93,
   "id": "566e1232",
   "metadata": {},
   "outputs": [
    {
     "data": {
      "text/plain": [
       "['O', ' ', ' ']"
      ]
     },
     "execution_count": 93,
     "metadata": {},
     "output_type": "execute_result"
    }
   ],
   "source": [
    "shuffle_list(mylist)"
   ]
  },
  {
   "cell_type": "code",
   "execution_count": 4,
   "id": "7ee851fe",
   "metadata": {},
   "outputs": [],
   "source": [
    "def player_guess():\n",
    "    guess = ' '\n",
    "    \n",
    "    while guess not in ['0','1','2']:\n",
    "        guess = input(\"Pick a number: 0,1, or 2 \")\n",
    "    \n",
    "    return int(guess)"
   ]
  },
  {
   "cell_type": "code",
   "execution_count": 5,
   "id": "126dfb8d",
   "metadata": {},
   "outputs": [
    {
     "name": "stdout",
     "output_type": "stream",
     "text": [
      "Pick a number: 0,1, or 2 0\n"
     ]
    },
    {
     "data": {
      "text/plain": [
       "0"
      ]
     },
     "execution_count": 5,
     "metadata": {},
     "output_type": "execute_result"
    }
   ],
   "source": [
    "player_guess()"
   ]
  },
  {
   "cell_type": "code",
   "execution_count": 96,
   "id": "934ddcc8",
   "metadata": {},
   "outputs": [
    {
     "name": "stdout",
     "output_type": "stream",
     "text": [
      "Pick a number: 0,1, or 21\n"
     ]
    }
   ],
   "source": [
    "myindex = player_guess()"
   ]
  },
  {
   "cell_type": "code",
   "execution_count": 97,
   "id": "413e6c5e",
   "metadata": {},
   "outputs": [
    {
     "data": {
      "text/plain": [
       "1"
      ]
     },
     "execution_count": 97,
     "metadata": {},
     "output_type": "execute_result"
    }
   ],
   "source": [
    "myindex"
   ]
  },
  {
   "cell_type": "code",
   "execution_count": 98,
   "id": "c4973a04",
   "metadata": {},
   "outputs": [],
   "source": [
    "def check_guess(mylist, guess):\n",
    "    if mylist[guess] == 'O':\n",
    "        print(\"Correct!\")\n",
    "    else:\n",
    "        print(\"Wrong Guess!\")\n",
    "        print(mylist)"
   ]
  },
  {
   "cell_type": "code",
   "execution_count": 99,
   "id": "f8bc790f",
   "metadata": {},
   "outputs": [
    {
     "name": "stdout",
     "output_type": "stream",
     "text": [
      "Pick a number: 0,1, or 20\n",
      "Correct!\n"
     ]
    }
   ],
   "source": [
    "# INITIAL LIST\n",
    "mylist = [' ','O',' ']\n",
    "\n",
    "# SHUFFLE LIST\n",
    "mixedup_list = shuffle_list(mylist)\n",
    "\n",
    "# USER LIST\n",
    "guess = player_guess()\n",
    "\n",
    "#CHECK GUESS\n",
    "check_guess(mixedup_list,guess)"
   ]
  },
  {
   "cell_type": "markdown",
   "id": "c53e00df",
   "metadata": {},
   "source": [
    "## L:49 - *args & **kwargs in Python"
   ]
  },
  {
   "cell_type": "code",
   "execution_count": 100,
   "id": "d5b21af7",
   "metadata": {},
   "outputs": [],
   "source": [
    "def myfunc(a,b,c=0,d=0,e=0):\n",
    "    #Return 5% of the sum of a and b\n",
    "    return sum((a,b,c,d,e)) * 0.05"
   ]
  },
  {
   "cell_type": "code",
   "execution_count": 101,
   "id": "1e2f97bc",
   "metadata": {},
   "outputs": [
    {
     "data": {
      "text/plain": [
       "35.0"
      ]
     },
     "execution_count": 101,
     "metadata": {},
     "output_type": "execute_result"
    }
   ],
   "source": [
    "myfunc(40,60,100,200,300)"
   ]
  },
  {
   "cell_type": "code",
   "execution_count": 102,
   "id": "0f5cf63b",
   "metadata": {},
   "outputs": [],
   "source": [
    "def myfunc(*args):\n",
    "    return sum(args) * 0.05"
   ]
  },
  {
   "cell_type": "code",
   "execution_count": 103,
   "id": "bf0342ab",
   "metadata": {},
   "outputs": [
    {
     "data": {
      "text/plain": [
       "35.0"
      ]
     },
     "execution_count": 103,
     "metadata": {},
     "output_type": "execute_result"
    }
   ],
   "source": [
    "myfunc(40,60,100,200,300)"
   ]
  },
  {
   "cell_type": "code",
   "execution_count": 104,
   "id": "c369df0e",
   "metadata": {},
   "outputs": [],
   "source": [
    "def myfunc(*args):\n",
    "    for item in args:\n",
    "        print(item)"
   ]
  },
  {
   "cell_type": "code",
   "execution_count": 105,
   "id": "71a774bc",
   "metadata": {},
   "outputs": [
    {
     "name": "stdout",
     "output_type": "stream",
     "text": [
      "40\n",
      "60\n",
      "100\n",
      "200\n",
      "300\n"
     ]
    }
   ],
   "source": [
    "myfunc(40,60,100,200,300)"
   ]
  },
  {
   "cell_type": "code",
   "execution_count": 106,
   "id": "4b8c85d2",
   "metadata": {},
   "outputs": [],
   "source": [
    " def myfunc(**kwargs):\n",
    "        print(kwargs)\n",
    "        if 'fruit' in kwargs:\n",
    "            print('My fruit of choice is {}'.format(kwargs['fruit']))\n",
    "        else:\n",
    "            print('I did not find any fruit here')"
   ]
  },
  {
   "cell_type": "code",
   "execution_count": 107,
   "id": "7a182d37",
   "metadata": {},
   "outputs": [
    {
     "name": "stdout",
     "output_type": "stream",
     "text": [
      "{'fruit': 'apple', 'veggie': 'lettuce'}\n",
      "My fruit of choice is apple\n"
     ]
    }
   ],
   "source": [
    "myfunc(fruit='apple',veggie = 'lettuce')"
   ]
  },
  {
   "cell_type": "code",
   "execution_count": 108,
   "id": "12760558",
   "metadata": {},
   "outputs": [],
   "source": [
    "def myfunc(*args,**kwargs):\n",
    "    print(args)\n",
    "    print(kwargs)\n",
    "    print('I would like {} {}'.format(args[0],kwargs['food']))"
   ]
  },
  {
   "cell_type": "code",
   "execution_count": 109,
   "id": "f3454614",
   "metadata": {},
   "outputs": [
    {
     "name": "stdout",
     "output_type": "stream",
     "text": [
      "(10, 20, 30, 40)\n",
      "{'fruit': 'orange', 'food': 'bread', 'animal': 'cat'}\n",
      "I would like 10 bread\n"
     ]
    }
   ],
   "source": [
    "myfunc(10,20,30,40,fruit = 'orange', food = 'bread', animal = 'cat')"
   ]
  },
  {
   "cell_type": "markdown",
   "id": "78721c82",
   "metadata": {},
   "source": [
    "### EXERCISE QUESTION"
   ]
  },
  {
   "cell_type": "code",
   "execution_count": 110,
   "id": "0a3e7341",
   "metadata": {},
   "outputs": [],
   "source": [
    "def myfunc(*args):\n",
    "    le = []\n",
    "    for item in range(len(args)):\n",
    "        if item % 2 == 0:\n",
    "            le.append(args[item].upper())\n",
    "        else:\n",
    "            le.append(args[item].lower())\n",
    "    return ''.join(le)"
   ]
  },
  {
   "cell_type": "markdown",
   "id": "12be2248",
   "metadata": {},
   "source": [
    "## L:55 - LAMBDA EXPRESSIONS MAP AND FILTER"
   ]
  },
  {
   "cell_type": "code",
   "execution_count": 111,
   "id": "64e0ec79",
   "metadata": {},
   "outputs": [],
   "source": [
    "def square(num):\n",
    "    return num**2"
   ]
  },
  {
   "cell_type": "code",
   "execution_count": 112,
   "id": "77363b00",
   "metadata": {},
   "outputs": [],
   "source": [
    "my_nums = [1,2,3,4,5]"
   ]
  },
  {
   "cell_type": "code",
   "execution_count": 113,
   "id": "18712720",
   "metadata": {},
   "outputs": [
    {
     "name": "stdout",
     "output_type": "stream",
     "text": [
      "1\n",
      "4\n",
      "9\n",
      "16\n",
      "25\n"
     ]
    }
   ],
   "source": [
    "for item in map(square,my_nums):\n",
    "    print(item)"
   ]
  },
  {
   "cell_type": "code",
   "execution_count": 114,
   "id": "eb154383",
   "metadata": {},
   "outputs": [
    {
     "data": {
      "text/plain": [
       "[1, 4, 9, 16, 25]"
      ]
     },
     "execution_count": 114,
     "metadata": {},
     "output_type": "execute_result"
    }
   ],
   "source": [
    "list(map(square,my_nums))"
   ]
  },
  {
   "cell_type": "code",
   "execution_count": 115,
   "id": "84277b0c",
   "metadata": {},
   "outputs": [],
   "source": [
    "def splicer(mystring):\n",
    "    if len(mystring)%2 == 0:\n",
    "        return 'EVEN'\n",
    "    else:\n",
    "        return mystring[0]"
   ]
  },
  {
   "cell_type": "code",
   "execution_count": 116,
   "id": "657143e8",
   "metadata": {},
   "outputs": [],
   "source": [
    "names = ['Andy', 'Eve', 'Sally']"
   ]
  },
  {
   "cell_type": "code",
   "execution_count": 117,
   "id": "7f7134c3",
   "metadata": {},
   "outputs": [
    {
     "data": {
      "text/plain": [
       "['EVEN', 'E', 'S']"
      ]
     },
     "execution_count": 117,
     "metadata": {},
     "output_type": "execute_result"
    }
   ],
   "source": [
    "list(map(splicer,names))"
   ]
  },
  {
   "cell_type": "code",
   "execution_count": 118,
   "id": "91275b93",
   "metadata": {},
   "outputs": [],
   "source": [
    "def check_even(num):\n",
    "    return num%2 == 0"
   ]
  },
  {
   "cell_type": "code",
   "execution_count": 119,
   "id": "16a02ceb",
   "metadata": {},
   "outputs": [],
   "source": [
    "mynums = [1,2,3,4,5,6]"
   ]
  },
  {
   "cell_type": "code",
   "execution_count": 120,
   "id": "b08269fa",
   "metadata": {},
   "outputs": [
    {
     "data": {
      "text/plain": [
       "[2, 4, 6]"
      ]
     },
     "execution_count": 120,
     "metadata": {},
     "output_type": "execute_result"
    }
   ],
   "source": [
    "list(filter(check_even,mynums))"
   ]
  },
  {
   "cell_type": "code",
   "execution_count": 121,
   "id": "515de42a",
   "metadata": {},
   "outputs": [
    {
     "name": "stdout",
     "output_type": "stream",
     "text": [
      "2\n",
      "4\n",
      "6\n"
     ]
    }
   ],
   "source": [
    "for n in filter(check_even, mynums):\n",
    "    print(n)"
   ]
  },
  {
   "cell_type": "code",
   "execution_count": 122,
   "id": "e279e4e9",
   "metadata": {},
   "outputs": [],
   "source": [
    "def square(num):\n",
    "    return num**2"
   ]
  },
  {
   "cell_type": "code",
   "execution_count": 123,
   "id": "d0e89085",
   "metadata": {},
   "outputs": [
    {
     "data": {
      "text/plain": [
       "4"
      ]
     },
     "execution_count": 123,
     "metadata": {},
     "output_type": "execute_result"
    }
   ],
   "source": [
    "square(2)"
   ]
  },
  {
   "cell_type": "code",
   "execution_count": 124,
   "id": "271b888a",
   "metadata": {},
   "outputs": [],
   "source": [
    "def square(num): return num**2"
   ]
  },
  {
   "cell_type": "code",
   "execution_count": 125,
   "id": "bf45e936",
   "metadata": {},
   "outputs": [],
   "source": [
    "square = lambda num: num**2"
   ]
  },
  {
   "cell_type": "code",
   "execution_count": 126,
   "id": "2127ed28",
   "metadata": {},
   "outputs": [
    {
     "data": {
      "text/plain": [
       "25"
      ]
     },
     "execution_count": 126,
     "metadata": {},
     "output_type": "execute_result"
    }
   ],
   "source": [
    "square(5)"
   ]
  },
  {
   "cell_type": "code",
   "execution_count": 6,
   "id": "3b521d67",
   "metadata": {},
   "outputs": [],
   "source": [
    "# lambda is used to reduce work of map function.\n",
    "# When we use map() only we have to write on program and give data also.\n",
    "# By using lambda we write the condition in it and does not need to write it seprately for performing map task."
   ]
  },
  {
   "cell_type": "code",
   "execution_count": 129,
   "id": "c7e68bb4",
   "metadata": {},
   "outputs": [
    {
     "data": {
      "text/plain": [
       "[1, 4, 9, 16, 25]"
      ]
     },
     "execution_count": 129,
     "metadata": {},
     "output_type": "execute_result"
    }
   ],
   "source": [
    "list(map(lambda num: num**2, my_nums))"
   ]
  },
  {
   "cell_type": "code",
   "execution_count": 130,
   "id": "c190175f",
   "metadata": {},
   "outputs": [
    {
     "data": {
      "text/plain": [
       "[2, 4, 6]"
      ]
     },
     "execution_count": 130,
     "metadata": {},
     "output_type": "execute_result"
    }
   ],
   "source": [
    "list(filter(lambda num : num%2 == 0, mynums))"
   ]
  },
  {
   "cell_type": "code",
   "execution_count": 131,
   "id": "1a350dcf",
   "metadata": {},
   "outputs": [
    {
     "data": {
      "text/plain": [
       "['Andy', 'Eve', 'Sally']"
      ]
     },
     "execution_count": 131,
     "metadata": {},
     "output_type": "execute_result"
    }
   ],
   "source": [
    "names"
   ]
  },
  {
   "cell_type": "code",
   "execution_count": 132,
   "id": "2b394505",
   "metadata": {},
   "outputs": [
    {
     "data": {
      "text/plain": [
       "['A', 'E', 'S']"
      ]
     },
     "execution_count": 132,
     "metadata": {},
     "output_type": "execute_result"
    }
   ],
   "source": [
    "list(map(lambda name: name[0],names))"
   ]
  },
  {
   "cell_type": "code",
   "execution_count": 133,
   "id": "e3f05727",
   "metadata": {},
   "outputs": [
    {
     "data": {
      "text/plain": [
       "['ydnA', 'evE', 'yllaS']"
      ]
     },
     "execution_count": 133,
     "metadata": {},
     "output_type": "execute_result"
    }
   ],
   "source": [
    "list(map(lambda name: name[::-1],names))"
   ]
  },
  {
   "cell_type": "code",
   "execution_count": 134,
   "id": "f21303e2",
   "metadata": {},
   "outputs": [],
   "source": [
    "t = (1)"
   ]
  },
  {
   "cell_type": "code",
   "execution_count": 135,
   "id": "beabb33c",
   "metadata": {},
   "outputs": [
    {
     "data": {
      "text/plain": [
       "1"
      ]
     },
     "execution_count": 135,
     "metadata": {},
     "output_type": "execute_result"
    }
   ],
   "source": [
    "t"
   ]
  },
  {
   "cell_type": "code",
   "execution_count": 136,
   "id": "aaf91ff0",
   "metadata": {},
   "outputs": [
    {
     "data": {
      "text/plain": [
       "int"
      ]
     },
     "execution_count": 136,
     "metadata": {},
     "output_type": "execute_result"
    }
   ],
   "source": [
    "type(t)"
   ]
  },
  {
   "cell_type": "code",
   "execution_count": 137,
   "id": "c83c3600",
   "metadata": {},
   "outputs": [],
   "source": [
    "t = (1,)"
   ]
  },
  {
   "cell_type": "code",
   "execution_count": 138,
   "id": "3ec23671",
   "metadata": {},
   "outputs": [
    {
     "data": {
      "text/plain": [
       "(1,)"
      ]
     },
     "execution_count": 138,
     "metadata": {},
     "output_type": "execute_result"
    }
   ],
   "source": [
    "t"
   ]
  },
  {
   "cell_type": "code",
   "execution_count": null,
   "id": "3ed3aa8f",
   "metadata": {},
   "outputs": [],
   "source": [
    "def pmoney(bakwas):\n",
    "    days = int(input(\"Days to send: \"))\n",
    "    for i in bakwas:\n",
    "        if \n",
    "        r = int(25500/d)\n",
    "        print(r)"
   ]
  },
  {
   "cell_type": "code",
   "execution_count": null,
   "id": "938fe29d",
   "metadata": {},
   "outputs": [],
   "source": []
  },
  {
   "cell_type": "markdown",
   "id": "1fce8de9",
   "metadata": {},
   "source": [
    "## L:56 - Nested Statements and Scope:"
   ]
  },
  {
   "cell_type": "code",
   "execution_count": 7,
   "id": "f3630f07",
   "metadata": {},
   "outputs": [],
   "source": [
    "# When you give a variable name that name is stored in place called namespace.\n",
    "# and that variable name also have scope.\n",
    "# Scope determines the visibility of that variable name to other parts of code.\n",
    "# Error: The variable is not define, is fixed by this way. "
   ]
  },
  {
   "cell_type": "code",
   "execution_count": 9,
   "id": "fee4be4b",
   "metadata": {},
   "outputs": [],
   "source": [
    "x = 25\n",
    "\n",
    "def printer():\n",
    "    x = 50\n",
    "    return x"
   ]
  },
  {
   "cell_type": "code",
   "execution_count": 10,
   "id": "0d52a8dd",
   "metadata": {},
   "outputs": [
    {
     "name": "stdout",
     "output_type": "stream",
     "text": [
      "25\n"
     ]
    }
   ],
   "source": [
    "print(x)"
   ]
  },
  {
   "cell_type": "code",
   "execution_count": 11,
   "id": "416fc45b",
   "metadata": {},
   "outputs": [
    {
     "name": "stdout",
     "output_type": "stream",
     "text": [
      "50\n"
     ]
    }
   ],
   "source": [
    "print(printer())"
   ]
  },
  {
   "cell_type": "code",
   "execution_count": 14,
   "id": "871abbf2",
   "metadata": {},
   "outputs": [],
   "source": [
    "# Scope desides what part have to run 1st."
   ]
  },
  {
   "cell_type": "markdown",
   "id": "5892b40f",
   "metadata": {},
   "source": [
    "# LEGB Rule:\n",
    "\n",
    "#### l: Local -- Names assigne any way within a function(def or lambda), and not declared global in that function.\n",
    "#### E: Enclosing function locals -- Names in the local scope of any and all enclosing functions (def or lambda), from inner to outer.\n",
    "#### G: Global(module) -- Names assigned at the top-level of a module file, or declared global in a def within the file.\n",
    "#### B: Built-in (Python) -- Names preassigned in the built-in names module: open, range, SyntaxError,...."
   ]
  },
  {
   "cell_type": "code",
   "execution_count": null,
   "id": "9d60f629",
   "metadata": {},
   "outputs": [],
   "source": []
  }
 ],
 "metadata": {
  "kernelspec": {
   "display_name": "Python 3 (ipykernel)",
   "language": "python",
   "name": "python3"
  },
  "language_info": {
   "codemirror_mode": {
    "name": "ipython",
    "version": 3
   },
   "file_extension": ".py",
   "mimetype": "text/x-python",
   "name": "python",
   "nbconvert_exporter": "python",
   "pygments_lexer": "ipython3",
   "version": "3.9.13"
  }
 },
 "nbformat": 4,
 "nbformat_minor": 5
}
