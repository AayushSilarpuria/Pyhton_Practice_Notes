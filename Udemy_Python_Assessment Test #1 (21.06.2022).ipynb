{
 "cells": [
  {
   "cell_type": "markdown",
   "id": "04654cf5",
   "metadata": {},
   "source": [
    "# Numbers:\n",
    "    It is digits which perform different numeric formats like \n",
    "    whole number, positive number and negative number. It have \n",
    "    two type number integer and floating point number. Integer examples are\n",
    "    1, -1 ; Float point example are 1.2, -2.4, \n",
    "    4E5(4*10^5).\n",
    "# Strings:\n",
    "    It is a sequence which contain alphabet, letter, numeric digits.\n",
    "    String is created using single quotes or double quotes. By using\n",
    "    print we can print multiple string on screen. Indexing are used to\n",
    "    partially print string. Slicing are used to grab everything up to \n",
    "    designated point. String have an important property immutabilty \n",
    "    that means in string part of string cannot be replaced. It only\n",
    "    can concatenate. Basic build in methods in string :\n",
    "    object.method(parameters)\n",
    "    There are 3 ways to perform string formate: \n",
    "    1. By placeholding % (modulo) method.\n",
    "       Ex: print(\"This is %s you get this %s.\"%('how','method'))\n",
    "    2. By .format() method.\n",
    "       Ex: print(\"This is {} I am saying {}\".format('what','about'))\n",
    "    3. By f-string method.\n",
    "       Ex. num = 10.5678\n",
    "           print(f\"This is 10 character, 2 decimal number: \n",
    "           {num:{10}.{2}}\")\n",
    "# Lists: \n",
    "    LIst is advance version of string in which list can be mutable. \n",
    "    ex. :  my_list = [1,2,3]\n",
    "    we canput anytype of variable in lists. Lists can be indexed and\n",
    "    slicing similar as strings.We canconcatinate, reassign & \n",
    "    duplicate in list as well. Few are basic list methods \n",
    "    append ex.: list.append(append_new_veriable)\n",
    "    Pop ex.: list.pop(1)\n",
    "    assign popped_item ex.: popped_item = list.pop(1)\n",
    "    reverse ex.: list.reverse()\n",
    "    sort ex.: list.sort()\n",
    "    Nesting list is supported by python. This means data structure \n",
    "    is stored within data structure.\n",
    "# Dictionary: \n",
    "    Dictionary are used to store data values in key:value format.\n",
    "    A dictionary is a collaction which is ordered, changable, do not \n",
    "    allow duplicate. it is written in curly brackets. Dictionary use \n",
    "    mapping to collect and store data by key.construct dictionary \n",
    "    dict = {'key1':'value1', 'key2':'value2', 'key3':['v3','v4']}\n",
    "    dict['key1']     --->calling\n",
    "    'value1'\n",
    "    dict['key3']     --->calling\n",
    "    ['v3','v4']\n",
    "    dict['key3'][0].upper()         --->calling\n",
    "    'V3'\n",
    "    We can assign new keys : \n",
    "    d = {}\n",
    "    d['name'] = 'Ayu'\n",
    "    d['age'] = 25\n",
    "    d               --->calling\n",
    "    {'name' : 'Ayu' , 'age' : 25}\n",
    "    Dictionary Methods: \n",
    "    d.keys()           --->calling\n",
    "    d_keys(['name', 'age'])\n",
    "    d.value()          --->calling\n",
    "    d_value(['Ayu', '25'])\n",
    "    d.item()           --->calling\n",
    "    d_item([(name','Ayu'),('age',25)])\n",
    "# Tuples:\n",
    "    It is similar to list, tuples are immutable. Constructing tuples:\n",
    "    t = (a,b,c)\n",
    "    len(t)          --->calling\n",
    "    3\n",
    "    Indexing : t = ('one', 1)\n",
    "               t[0]            --->calling\n",
    "               'one'\n",
    "    Slicing : t[-1] \n",
    "              1\n",
    "    Tuple method: t.index('one')\n",
    "                  0\n",
    "                  t.count('one')\n",
    "                  1\n",
    "    Tuple is immutable because of this we cannot use [t.append]."
   ]
  },
  {
   "cell_type": "code",
   "execution_count": null,
   "id": "bcfb8323",
   "metadata": {},
   "outputs": [],
   "source": []
  },
  {
   "cell_type": "code",
   "execution_count": 1,
   "id": "54006e3d",
   "metadata": {},
   "outputs": [
    {
     "name": "stdout",
     "output_type": "stream",
     "text": [
      "100.25\n"
     ]
    }
   ],
   "source": [
    " print(((100-50)*200+(5**2))/100)"
   ]
  },
  {
   "cell_type": "code",
   "execution_count": 2,
   "id": "1258094b",
   "metadata": {},
   "outputs": [
    {
     "data": {
      "text/plain": [
       "34"
      ]
     },
     "execution_count": 2,
     "metadata": {},
     "output_type": "execute_result"
    }
   ],
   "source": [
    "44\n",
    "29\n",
    "34"
   ]
  },
  {
   "cell_type": "code",
   "execution_count": 3,
   "id": "91ab6d6d",
   "metadata": {},
   "outputs": [],
   "source": [
    "# 8.5 float"
   ]
  },
  {
   "cell_type": "code",
   "execution_count": 4,
   "id": "a4ff6699",
   "metadata": {},
   "outputs": [],
   "source": [
    "#Square root : 10 ** 0.2 \n",
    "#Square : 10 ** 2"
   ]
  },
  {
   "cell_type": "code",
   "execution_count": 5,
   "id": "f870474d",
   "metadata": {},
   "outputs": [
    {
     "data": {
      "text/plain": [
       "'e'"
      ]
     },
     "execution_count": 5,
     "metadata": {},
     "output_type": "execute_result"
    }
   ],
   "source": [
    "s = 'hello'\n",
    "s[1]"
   ]
  },
  {
   "cell_type": "code",
   "execution_count": 2,
   "id": "228734dc",
   "metadata": {},
   "outputs": [
    {
     "data": {
      "text/plain": [
       "'olleh'"
      ]
     },
     "execution_count": 2,
     "metadata": {},
     "output_type": "execute_result"
    }
   ],
   "source": [
    "s = 'hello'\n",
    "s[::-1]"
   ]
  },
  {
   "cell_type": "code",
   "execution_count": 7,
   "id": "83839f90",
   "metadata": {},
   "outputs": [
    {
     "data": {
      "text/plain": [
       "'o'"
      ]
     },
     "execution_count": 7,
     "metadata": {},
     "output_type": "execute_result"
    }
   ],
   "source": [
    "s='hello'\n",
    "s[4:]"
   ]
  },
  {
   "cell_type": "code",
   "execution_count": 8,
   "id": "5b48cb1b",
   "metadata": {},
   "outputs": [
    {
     "data": {
      "text/plain": [
       "'o'"
      ]
     },
     "execution_count": 8,
     "metadata": {},
     "output_type": "execute_result"
    }
   ],
   "source": [
    "s[-1:]"
   ]
  },
  {
   "cell_type": "code",
   "execution_count": 9,
   "id": "8e931917",
   "metadata": {},
   "outputs": [
    {
     "data": {
      "text/plain": [
       "[0, 0, 0]"
      ]
     },
     "execution_count": 9,
     "metadata": {},
     "output_type": "execute_result"
    }
   ],
   "source": [
    "list = [0,0,0]\n",
    "list"
   ]
  },
  {
   "cell_type": "code",
   "execution_count": 10,
   "id": "11d2fb99",
   "metadata": {},
   "outputs": [
    {
     "data": {
      "text/plain": [
       "[0, 0, 0]"
      ]
     },
     "execution_count": 10,
     "metadata": {},
     "output_type": "execute_result"
    }
   ],
   "source": [
    "list = [0,0]\n",
    "list.append(0)\n",
    "list"
   ]
  },
  {
   "cell_type": "code",
   "execution_count": 4,
   "id": "93231498",
   "metadata": {},
   "outputs": [
    {
     "data": {
      "text/plain": [
       "'hello'"
      ]
     },
     "execution_count": 4,
     "metadata": {},
     "output_type": "execute_result"
    }
   ],
   "source": [
    "list3 = [1,2,[3,4,'hello']]\n",
    "list3[2].pop(2)"
   ]
  },
  {
   "cell_type": "code",
   "execution_count": 11,
   "id": "6d4fee01",
   "metadata": {},
   "outputs": [
    {
     "data": {
      "text/plain": [
       "[1, 2, [3, 4, 'goodbye']]"
      ]
     },
     "execution_count": 11,
     "metadata": {},
     "output_type": "execute_result"
    }
   ],
   "source": [
    "list3 = [1,2,[3,4,'hello']]\n",
    "list3[2].pop(2)\n",
    "list3[2].append('goodbye')\n",
    "list3"
   ]
  },
  {
   "cell_type": "code",
   "execution_count": 12,
   "id": "371ac28b",
   "metadata": {},
   "outputs": [
    {
     "data": {
      "text/plain": [
       "[1, 3, 4, 5, 6]"
      ]
     },
     "execution_count": 12,
     "metadata": {},
     "output_type": "execute_result"
    }
   ],
   "source": [
    "list4 = [5,3,4,6,1]\n",
    "list4.sort()\n",
    "list4"
   ]
  },
  {
   "cell_type": "code",
   "execution_count": 13,
   "id": "804762a0",
   "metadata": {},
   "outputs": [
    {
     "data": {
      "text/plain": [
       "'hello'"
      ]
     },
     "execution_count": 13,
     "metadata": {},
     "output_type": "execute_result"
    }
   ],
   "source": [
    "d={'simple_key':'hello'}\n",
    "d['simple_key']"
   ]
  },
  {
   "cell_type": "code",
   "execution_count": 14,
   "id": "0783e69a",
   "metadata": {},
   "outputs": [
    {
     "data": {
      "text/plain": [
       "'hello'"
      ]
     },
     "execution_count": 14,
     "metadata": {},
     "output_type": "execute_result"
    }
   ],
   "source": [
    "d = {'k1':{'k2':'hello'}}\n",
    "d['k1']['k2']"
   ]
  },
  {
   "cell_type": "code",
   "execution_count": 15,
   "id": "4305093e",
   "metadata": {},
   "outputs": [
    {
     "data": {
      "text/plain": [
       "'hello'"
      ]
     },
     "execution_count": 15,
     "metadata": {},
     "output_type": "execute_result"
    }
   ],
   "source": [
    "d = {'k1':[{'nest_key':['this is deep',['hello']]}]}\n",
    "d['k1'][0]['nest_key'][1][0]"
   ]
  },
  {
   "cell_type": "code",
   "execution_count": null,
   "id": "e536d53e",
   "metadata": {},
   "outputs": [],
   "source": []
  },
  {
   "cell_type": "code",
   "execution_count": 16,
   "id": "50e1f33d",
   "metadata": {},
   "outputs": [
    {
     "data": {
      "text/plain": [
       "'hello'"
      ]
     },
     "execution_count": 16,
     "metadata": {},
     "output_type": "execute_result"
    }
   ],
   "source": [
    "d = {'k1':[1,2,{'k2':['this is tricky',{'tough':[1,2,['hello']]}]}]}\n",
    "d['k1'][2]['k2'][1]['tough'][2][0]"
   ]
  },
  {
   "cell_type": "code",
   "execution_count": 1,
   "id": "afbcb9e1",
   "metadata": {},
   "outputs": [],
   "source": [
    "#  Major Difference between tuples and list : \n",
    "#  Tuples is immutable.\n",
    "#  Lists is mutable."
   ]
  },
  {
   "cell_type": "code",
   "execution_count": null,
   "id": "ef271da4",
   "metadata": {},
   "outputs": [],
   "source": [
    "t = (1,2,3)\n",
    "t"
   ]
  },
  {
   "cell_type": "code",
   "execution_count": null,
   "id": "59652dcc",
   "metadata": {},
   "outputs": [],
   "source": [
    "# Set have unique set of element. "
   ]
  },
  {
   "cell_type": "code",
   "execution_count": null,
   "id": "a34f0de4",
   "metadata": {},
   "outputs": [],
   "source": [
    "list5 = [1,2,2,33,4,4,11,22,3,3,2]\n",
    "set(list5)"
   ]
  },
  {
   "cell_type": "code",
   "execution_count": null,
   "id": "f9c45edc",
   "metadata": {},
   "outputs": [],
   "source": [
    "1. f 2. f 3. f 4. t 5. f"
   ]
  },
  {
   "cell_type": "code",
   "execution_count": null,
   "id": "73a36019",
   "metadata": {},
   "outputs": [],
   "source": [
    "Ans. F"
   ]
  },
  {
   "cell_type": "code",
   "execution_count": 5,
   "id": "f45ef471",
   "metadata": {},
   "outputs": [
    {
     "data": {
      "text/plain": [
       "4"
      ]
     },
     "execution_count": 5,
     "metadata": {},
     "output_type": "execute_result"
    }
   ],
   "source": [
    "l_two = [1,2,{'k1':4}]\n",
    "l_two[2]['k1']"
   ]
  },
  {
   "cell_type": "code",
   "execution_count": null,
   "id": "eafc6249",
   "metadata": {},
   "outputs": [],
   "source": [
    "# END."
   ]
  },
  {
   "cell_type": "code",
   "execution_count": null,
   "id": "a2d1b98e",
   "metadata": {},
   "outputs": [],
   "source": [
    "Alternative answer:"
   ]
  },
  {
   "cell_type": "code",
   "execution_count": 6,
   "id": "430a1579",
   "metadata": {},
   "outputs": [
    {
     "data": {
      "text/plain": [
       "[1, 2, [3, 4, 'goodbye']]"
      ]
     },
     "execution_count": 6,
     "metadata": {},
     "output_type": "execute_result"
    }
   ],
   "source": [
    "list3 = [1,2,[3,4,'hello']]\n",
    "list3[2][2]= 'goodbye'\n",
    "list3"
   ]
  },
  {
   "cell_type": "code",
   "execution_count": null,
   "id": "7aa83c40",
   "metadata": {},
   "outputs": [],
   "source": [
    "list4 = [5,3,4,6,1]\n",
    "sorted(list4)"
   ]
  },
  {
   "cell_type": "code",
   "execution_count": null,
   "id": "4ec02b50",
   "metadata": {},
   "outputs": [],
   "source": []
  },
  {
   "cell_type": "code",
   "execution_count": null,
   "id": "e6b33085",
   "metadata": {},
   "outputs": [],
   "source": [
    "\n"
   ]
  },
  {
   "cell_type": "code",
   "execution_count": null,
   "id": "8473d73b",
   "metadata": {},
   "outputs": [],
   "source": []
  }
 ],
 "metadata": {
  "kernelspec": {
   "display_name": "Python 3 (ipykernel)",
   "language": "python",
   "name": "python3"
  },
  "language_info": {
   "codemirror_mode": {
    "name": "ipython",
    "version": 3
   },
   "file_extension": ".py",
   "mimetype": "text/x-python",
   "name": "python",
   "nbconvert_exporter": "python",
   "pygments_lexer": "ipython3",
   "version": "3.9.13"
  }
 },
 "nbformat": 4,
 "nbformat_minor": 5
}
