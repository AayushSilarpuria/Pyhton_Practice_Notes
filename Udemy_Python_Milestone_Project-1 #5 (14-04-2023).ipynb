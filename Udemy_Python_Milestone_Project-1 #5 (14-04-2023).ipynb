{
 "cells": [
  {
   "cell_type": "markdown",
   "id": "31b2d87c",
   "metadata": {},
   "source": [
    "## L-59 : Introduction to warm up Project Exercise \n",
    "### We are creating an interactive: \n",
    "### Tic-Tac-Toe Game!"
   ]
  },
  {
   "cell_type": "code",
   "execution_count": 1,
   "id": "ddae055b",
   "metadata": {},
   "outputs": [],
   "source": [
    "# Interactive work on this very simple idea:\n",
    "\n",
    "# 1. Visual Representation\n",
    "# 2. User input: let user update through an interaction.\n",
    "# 3. Function: Perform task\n",
    "# 4. Updates: Update varible in the program.\n",
    "# 5. New Visual\n",
    "# 6. Update Visual Representation: Disply updated visual."
   ]
  },
  {
   "cell_type": "markdown",
   "id": "25b91d06",
   "metadata": {},
   "source": [
    "## L-60 : Displaying Information"
   ]
  },
  {
   "cell_type": "code",
   "execution_count": 2,
   "id": "bf047103",
   "metadata": {},
   "outputs": [
    {
     "name": "stdout",
     "output_type": "stream",
     "text": [
      "[1, 2, 3]\n"
     ]
    }
   ],
   "source": [
    "print([1,2,3])"
   ]
  },
  {
   "cell_type": "code",
   "execution_count": 3,
   "id": "bbac2b6d",
   "metadata": {},
   "outputs": [
    {
     "name": "stdout",
     "output_type": "stream",
     "text": [
      "[1, 2, 3]\n",
      "[4, 5, 6]\n",
      "[7, 8, 9]\n"
     ]
    }
   ],
   "source": [
    "print([1,2,3])\n",
    "print([4,5,6])\n",
    "print([7,8,9])"
   ]
  },
  {
   "cell_type": "code",
   "execution_count": 6,
   "id": "4ae0d805",
   "metadata": {},
   "outputs": [],
   "source": [
    "# Now insted of display it out 1by1 we use function to display it.\n",
    "def display(row1, row2, row3):\n",
    "    print(row1)\n",
    "    print(row2)\n",
    "    print(row3)"
   ]
  },
  {
   "cell_type": "code",
   "execution_count": 7,
   "id": "d67d49c6",
   "metadata": {},
   "outputs": [
    {
     "name": "stdout",
     "output_type": "stream",
     "text": [
      "[1, 2, 3]\n",
      "[1, 2, 3]\n",
      "[1, 2, 3]\n"
     ]
    }
   ],
   "source": [
    "example_row = [1,2,3]\n",
    "display(example_row, example_row, example_row)"
   ]
  },
  {
   "cell_type": "code",
   "execution_count": 8,
   "id": "7c6607c6",
   "metadata": {},
   "outputs": [],
   "source": [
    "row1 = [' ',' ',' ']\n",
    "row2 = [' ',' ',' ']\n",
    "row3 = [' ',' ',' ']"
   ]
  },
  {
   "cell_type": "code",
   "execution_count": 9,
   "id": "193fc035",
   "metadata": {},
   "outputs": [
    {
     "name": "stdout",
     "output_type": "stream",
     "text": [
      "[' ', ' ', ' ']\n",
      "[' ', ' ', ' ']\n",
      "[' ', ' ', ' ']\n"
     ]
    }
   ],
   "source": [
    "display(row1,row2,row3)"
   ]
  },
  {
   "cell_type": "code",
   "execution_count": 10,
   "id": "044e6016",
   "metadata": {},
   "outputs": [],
   "source": [
    "row2[1]= 'X'"
   ]
  },
  {
   "cell_type": "code",
   "execution_count": 11,
   "id": "9111e697",
   "metadata": {},
   "outputs": [
    {
     "name": "stdout",
     "output_type": "stream",
     "text": [
      "[' ', ' ', ' ']\n",
      "[' ', 'X', ' ']\n",
      "[' ', ' ', ' ']\n"
     ]
    }
   ],
   "source": [
    "display(row1,row2,row3)"
   ]
  },
  {
   "cell_type": "markdown",
   "id": "a9470b8e",
   "metadata": {},
   "source": [
    "## L-61 : Accepting User Input"
   ]
  },
  {
   "cell_type": "code",
   "execution_count": 16,
   "id": "7e9fdcb9",
   "metadata": {},
   "outputs": [
    {
     "name": "stdout",
     "output_type": "stream",
     "text": [
      "Please endter a value: 2\n"
     ]
    },
    {
     "data": {
      "text/plain": [
       "'2'"
      ]
     },
     "execution_count": 16,
     "metadata": {},
     "output_type": "execute_result"
    }
   ],
   "source": [
    "result = input(\"Please endter a value: \")\n",
    "result"
   ]
  },
  {
   "cell_type": "code",
   "execution_count": 17,
   "id": "c26cf423",
   "metadata": {},
   "outputs": [
    {
     "data": {
      "text/plain": [
       "str"
      ]
     },
     "execution_count": 17,
     "metadata": {},
     "output_type": "execute_result"
    }
   ],
   "source": [
    "type(result)"
   ]
  },
  {
   "cell_type": "code",
   "execution_count": 19,
   "id": "5c6fb50c",
   "metadata": {},
   "outputs": [
    {
     "data": {
      "text/plain": [
       "int"
      ]
     },
     "execution_count": 19,
     "metadata": {},
     "output_type": "execute_result"
    }
   ],
   "source": [
    "result_int = int(result)\n",
    "type(result_int)"
   ]
  },
  {
   "cell_type": "code",
   "execution_count": 20,
   "id": "14a79dc3",
   "metadata": {},
   "outputs": [
    {
     "data": {
      "text/plain": [
       "3.14"
      ]
     },
     "execution_count": 20,
     "metadata": {},
     "output_type": "execute_result"
    }
   ],
   "source": [
    "float('3.14')"
   ]
  },
  {
   "cell_type": "code",
   "execution_count": 30,
   "id": "9c9ec24f",
   "metadata": {},
   "outputs": [],
   "source": [
    "# If you don't Typecast input it always give str type.\n",
    "# for desired outcome we have to convert input.\n",
    "# In below requirement we have to convert input into int,\n",
    "# otherwise it give TypeError when we use input value for assignment purpose.\n",
    "# Another ValueError came when we insert different value insted of required value.\n"
   ]
  },
  {
   "cell_type": "code",
   "execution_count": 31,
   "id": "79ab2999",
   "metadata": {},
   "outputs": [
    {
     "name": "stdout",
     "output_type": "stream",
     "text": [
      "Choose an index position: 2\n"
     ]
    },
    {
     "data": {
      "text/plain": [
       "int"
      ]
     },
     "execution_count": 31,
     "metadata": {},
     "output_type": "execute_result"
    }
   ],
   "source": [
    "position_index = int(input(\"Choose an index position: \"))\n",
    "type(position_index)"
   ]
  },
  {
   "cell_type": "code",
   "execution_count": 32,
   "id": "20b344d1",
   "metadata": {},
   "outputs": [
    {
     "data": {
      "text/plain": [
       "' '"
      ]
     },
     "execution_count": 32,
     "metadata": {},
     "output_type": "execute_result"
    }
   ],
   "source": [
    "row2[position_index]"
   ]
  },
  {
   "cell_type": "code",
   "execution_count": 33,
   "id": "74fc327e",
   "metadata": {},
   "outputs": [],
   "source": [
    "# if you dont enter input and run another cell then below input cell, no other cell run. \n",
    "# and if you run input twice then it stop running and other cell also stuck in loop.\n",
    "# to stop this we have to Restart Kernal and run all cell to get all value run again."
   ]
  },
  {
   "cell_type": "markdown",
   "id": "9b615e59",
   "metadata": {},
   "source": [
    "## L-62: Validating User Input"
   ]
  },
  {
   "cell_type": "code",
   "execution_count": 35,
   "id": "14f2502a",
   "metadata": {},
   "outputs": [],
   "source": [
    "# We are controlling input value that user give by:\n",
    "# 1. Make sure that the datatype is valid in terms of integer.\n",
    "# 2. Check that input is valid before attempting to convert.\n",
    "# 3. And check agains input value by bounding it through condition."
   ]
  },
  {
   "cell_type": "markdown",
   "id": "8faa108b",
   "metadata": {},
   "source": [
    "#### Go to this link for cheking new validation ways:\n",
    "#### https://github.com/AayushSilarpuria/Complete-Python-3-Bootcamp/blob/master/04-Milestone%20Project%20-%201/00-Warm-Up-Project-Exercises.ipynb\n",
    "#### https://stackoverflow.com/questions/5424716/how-can-i-check-if-string-input-is-a-number\n",
    "#### https://stackoverflow.com/questions/1265665/how-can-i-check-if-a-string-represents-an-int-without-using-try-except\n"
   ]
  },
  {
   "cell_type": "code",
   "execution_count": 37,
   "id": "3b5cd4e4",
   "metadata": {},
   "outputs": [],
   "source": [
    "# Python offers isnumeric() method that checks whether a string is an integer or not. \n",
    "# This method is similar to the isdigit() method but with a few differences.\n",
    "# The isnumeric() method checks whether all the characters in the string are numeric.\n",
    "# While the isdigit() method checks whether the strings contain only digits."
   ]
  },
  {
   "cell_type": "code",
   "execution_count": 39,
   "id": "db38fb1a",
   "metadata": {},
   "outputs": [
    {
     "name": "stdout",
     "output_type": "stream",
     "text": [
      "Please enter a number (0-10): 100\n"
     ]
    },
    {
     "data": {
      "text/plain": [
       "100"
      ]
     },
     "execution_count": 39,
     "metadata": {},
     "output_type": "execute_result"
    }
   ],
   "source": [
    "def user_choice():\n",
    "    \n",
    "    choice = input(\"Please enter a number (0-10): \")\n",
    "    \n",
    "    return int(choice)\n",
    "\n",
    "user_choice()"
   ]
  },
  {
   "cell_type": "code",
   "execution_count": 41,
   "id": "233563a0",
   "metadata": {},
   "outputs": [
    {
     "data": {
      "text/plain": [
       "True"
      ]
     },
     "execution_count": 41,
     "metadata": {},
     "output_type": "execute_result"
    }
   ],
   "source": [
    "# Press tab after . to get list of methods. \n",
    "# Press tab + shift anywhere in method to get detail info of methods.\n",
    "some_value = '100'\n",
    "some_value.isdigit()"
   ]
  },
  {
   "cell_type": "code",
   "execution_count": 42,
   "id": "c249a6dc",
   "metadata": {},
   "outputs": [
    {
     "data": {
      "text/plain": [
       "100"
      ]
     },
     "execution_count": 42,
     "metadata": {},
     "output_type": "execute_result"
    }
   ],
   "source": [
    "int(some_value)"
   ]
  },
  {
   "cell_type": "code",
   "execution_count": 1,
   "id": "9a59e85b",
   "metadata": {},
   "outputs": [],
   "source": [
    "def user_choice():\n",
    "    # for using .isdigit() method we pass a default value that is not digit. \n",
    "    choice = 'WRONG'\n",
    "    \n",
    "    # while continue until isdigit is True.\n",
    "    while choice.isdigit() == False:\n",
    "        \n",
    "        choice = input(\"Please enter a number (0-10): \")\n",
    "        \n",
    "        if choice.isdigit() == False:\n",
    "            print(\"Sorry that is not a digit!\")\n",
    "    return int(choice)\n"
   ]
  },
  {
   "cell_type": "code",
   "execution_count": 48,
   "id": "58938de7",
   "metadata": {},
   "outputs": [
    {
     "name": "stdout",
     "output_type": "stream",
     "text": [
      "Please enter a number (0-10): dfsdfd\n",
      "Sorry that is not a digit!\n",
      "Please enter a number (0-10): sdf\n",
      "Sorry that is not a digit!\n",
      "Please enter a number (0-10): 22\n"
     ]
    },
    {
     "data": {
      "text/plain": [
       "22"
      ]
     },
     "execution_count": 48,
     "metadata": {},
     "output_type": "execute_result"
    }
   ],
   "source": [
    "user_choice()"
   ]
  },
  {
   "cell_type": "code",
   "execution_count": 49,
   "id": "45efd3b3",
   "metadata": {},
   "outputs": [],
   "source": [
    "result = 'WRONG VALUE'"
   ]
  },
  {
   "cell_type": "code",
   "execution_count": 50,
   "id": "b6b9f73d",
   "metadata": {},
   "outputs": [],
   "source": [
    "acceptable_value = [0,1,2]"
   ]
  },
  {
   "cell_type": "code",
   "execution_count": 51,
   "id": "609ff6e9",
   "metadata": {},
   "outputs": [
    {
     "data": {
      "text/plain": [
       "False"
      ]
     },
     "execution_count": 51,
     "metadata": {},
     "output_type": "execute_result"
    }
   ],
   "source": [
    "result in acceptable_value"
   ]
  },
  {
   "cell_type": "code",
   "execution_count": 52,
   "id": "3758726d",
   "metadata": {},
   "outputs": [
    {
     "data": {
      "text/plain": [
       "True"
      ]
     },
     "execution_count": 52,
     "metadata": {},
     "output_type": "execute_result"
    }
   ],
   "source": [
    "result not in acceptable_value"
   ]
  },
  {
   "cell_type": "code",
   "execution_count": 2,
   "id": "7eb34c7b",
   "metadata": {},
   "outputs": [],
   "source": [
    "def user_choice():\n",
    "    \n",
    "    # VARIABLES\n",
    "    \n",
    "    # INITIAL\n",
    "    choice = 'WRONG'\n",
    "    acceptable_range = range(0,10)\n",
    "    within_range = False\n",
    "    \n",
    "    # TWO CONDITIONS TO CHECK\n",
    "    # DIGITS OR WITHIN_RANGE == False\n",
    "    \n",
    "    while choice.isdigit() == False or within_range == False:\n",
    "        \n",
    "        choice = input(\"Please enter a number (0-10): \")\n",
    "        \n",
    "        #1. DIGIT CHECK\n",
    "        if choice.isdigit() == False:\n",
    "            print(\"Sorry that is not a digit!\")\n",
    "        \n",
    "        #2. RANGE CHECK\n",
    "        if choice.isdigit() == True:\n",
    "            if int(choice) in acceptable_range:\n",
    "                within_range = True\n",
    "            else:\n",
    "                print(\"Sorry, you are out of acceptable range(0-10)\")\n",
    "                within_range = False\n",
    "                \n",
    "    return int(choice)"
   ]
  },
  {
   "cell_type": "code",
   "execution_count": 3,
   "id": "15c98821",
   "metadata": {},
   "outputs": [
    {
     "name": "stdout",
     "output_type": "stream",
     "text": [
      "Please enter a number (0-10): two\n",
      "Sorry that is not a digit!\n",
      "Please enter a number (0-10): 100\n",
      "Sorry, you are out of acceptable range(0-10)\n",
      "Please enter a number (0-10): 5\n"
     ]
    },
    {
     "data": {
      "text/plain": [
       "5"
      ]
     },
     "execution_count": 3,
     "metadata": {},
     "output_type": "execute_result"
    }
   ],
   "source": [
    "user_choice()"
   ]
  },
  {
   "cell_type": "markdown",
   "id": "5b71cfad",
   "metadata": {},
   "source": [
    "## L-63: Simple User Interaction"
   ]
  },
  {
   "cell_type": "markdown",
   "id": "f3203da0",
   "metadata": {},
   "source": [
    "##### This program will do:\n",
    "#####     1.  Display Game: Display a list contain 3 items.\n",
    "#####     2. Position Choice: User have to choose an index position, an input value and validate input.    \n",
    "#####     3. Replacement Choice: Replace value at index position with user chosen input value.\n",
    "#####     4. GameON Choice: We also check to see user want to exit game at any time."
   ]
  },
  {
   "cell_type": "code",
   "execution_count": 4,
   "id": "12043bbf",
   "metadata": {},
   "outputs": [],
   "source": [
    "game_list = [0,1,2]"
   ]
  },
  {
   "cell_type": "code",
   "execution_count": 5,
   "id": "d91ebba0",
   "metadata": {},
   "outputs": [],
   "source": [
    "def display_game(game_list):\n",
    "    print(\"Welcome to Editor Game:\")\n",
    "    print(\"Here is the current list: \")\n",
    "    print(game_list)"
   ]
  },
  {
   "cell_type": "code",
   "execution_count": 6,
   "id": "5d020084",
   "metadata": {},
   "outputs": [
    {
     "name": "stdout",
     "output_type": "stream",
     "text": [
      "Here is the current list: \n",
      "[0, 1, 2]\n"
     ]
    }
   ],
   "source": [
    "display_game(game_list)"
   ]
  },
  {
   "cell_type": "code",
   "execution_count": 9,
   "id": "793519b4",
   "metadata": {},
   "outputs": [],
   "source": [
    "def position_choice():\n",
    "    \n",
    "    choice = 'wrong'\n",
    "    \n",
    "    while choice not in ['0', '1', '2']:\n",
    "        \n",
    "        choice = input(\"Pick a position (0, 1, 2): \")\n",
    "        \n",
    "        if choice not in ['0', '1', '2']:\n",
    "            print(\"Sorry, invalid choice!\")\n",
    "            \n",
    "    return int(choice)"
   ]
  },
  {
   "cell_type": "code",
   "execution_count": 10,
   "id": "0211a520",
   "metadata": {},
   "outputs": [
    {
     "name": "stdout",
     "output_type": "stream",
     "text": [
      "Pick a position (0, 1, 2): two\n",
      "Sorry, invalid choice!\n",
      "Pick a position (0, 1, 2): 112\n",
      "Sorry, invalid choice!\n",
      "Pick a position (0, 1, 2): 1\n"
     ]
    },
    {
     "data": {
      "text/plain": [
       "1"
      ]
     },
     "execution_count": 10,
     "metadata": {},
     "output_type": "execute_result"
    }
   ],
   "source": [
    "position_choice()"
   ]
  },
  {
   "cell_type": "code",
   "execution_count": 13,
   "id": "59ef91e1",
   "metadata": {},
   "outputs": [],
   "source": [
    "def replacement_choice(game_list, position):\n",
    "    \n",
    "    user_placement = input(\"Type a string to place at position: \")\n",
    "    \n",
    "    game_list[position] = user_placement\n",
    "    \n",
    "    return game_list"
   ]
  },
  {
   "cell_type": "code",
   "execution_count": 14,
   "id": "90db67db",
   "metadata": {},
   "outputs": [
    {
     "name": "stdout",
     "output_type": "stream",
     "text": [
      "Type a string to place at position: test\n"
     ]
    },
    {
     "data": {
      "text/plain": [
       "[0, 'test', 2]"
      ]
     },
     "execution_count": 14,
     "metadata": {},
     "output_type": "execute_result"
    }
   ],
   "source": [
    "replacement_choice(game_list, 1)"
   ]
  },
  {
   "cell_type": "code",
   "execution_count": 15,
   "id": "a692b598",
   "metadata": {},
   "outputs": [],
   "source": [
    "def gameon_choice():\n",
    "    \n",
    "    choice = \"wrong\"\n",
    "    \n",
    "    while choice not in ['Y', 'N']:\n",
    "        \n",
    "        choice = input(\"Keep playing? (Y or N)\")\n",
    "        \n",
    "        if choice not in ['Y', 'N']:\n",
    "            print(\"Sorry, I dont understand, please choose Y or N\")\n",
    "            \n",
    "    if choice == \"Y\":\n",
    "        return True\n",
    "    else:\n",
    "        return False\n",
    "    "
   ]
  },
  {
   "cell_type": "code",
   "execution_count": 16,
   "id": "d85509fb",
   "metadata": {},
   "outputs": [
    {
     "name": "stdout",
     "output_type": "stream",
     "text": [
      "Keep playing? (Y or N)ajlkd\n",
      "Sorry, I dont understand, please choose Y or N\n",
      "Keep playing? (Y or N)33\n",
      "Sorry, I dont understand, please choose Y or N\n",
      "Keep playing? (Y or N)Y\n"
     ]
    },
    {
     "data": {
      "text/plain": [
       "True"
      ]
     },
     "execution_count": 16,
     "metadata": {},
     "output_type": "execute_result"
    }
   ],
   "source": [
    "gameon_choice()"
   ]
  },
  {
   "cell_type": "code",
   "execution_count": 18,
   "id": "5a200c68",
   "metadata": {},
   "outputs": [
    {
     "name": "stdout",
     "output_type": "stream",
     "text": [
      "Here is the current list: \n",
      "[0, 1, 2]\n",
      "Pick a position (0, 1, 2): wow\n",
      "Sorry, invalid choice!\n",
      "Pick a position (0, 1, 2): 1\n",
      "Type a string to place at position: Change Value\n",
      "Here is the current list: \n",
      "[0, 'Change Value', 2]\n",
      "Keep playing? (Y or N)Y\n",
      "Here is the current list: \n",
      "[0, 'Change Value', 2]\n",
      "Pick a position (0, 1, 2): 0\n",
      "Type a string to place at position: Wow\n",
      "Here is the current list: \n",
      "['Wow', 'Change Value', 2]\n",
      "Keep playing? (Y or N)n\n",
      "Sorry, I dont understand, please choose Y or N\n",
      "Keep playing? (Y or N)N\n"
     ]
    }
   ],
   "source": [
    "game_on = True\n",
    "game_list = [0,1,2]\n",
    "\n",
    "while game_on:\n",
    "    \n",
    "    # Display info:\n",
    "    display_game(game_list)\n",
    "    \n",
    "    # Validating info:\n",
    "    position = position_choice()\n",
    "    \n",
    "    # Replacing/ Update info:\n",
    "    game_list = replacement_choice(game_list, position)\n",
    "    \n",
    "    # Display Updated info:\n",
    "    display_game(game_list)\n",
    "    \n",
    "    # Keep Going:\n",
    "    game_on = gameon_choice()"
   ]
  },
  {
   "cell_type": "markdown",
   "id": "bc1cad65",
   "metadata": {},
   "source": [
    "##### Next Milestone Project!"
   ]
  },
  {
   "cell_type": "markdown",
   "id": "6aa1db0f",
   "metadata": {},
   "source": [
    "# Tic Tac Toe Game"
   ]
  },
  {
   "cell_type": "code",
   "execution_count": 4,
   "id": "d7fb8c83",
   "metadata": {},
   "outputs": [],
   "source": [
    "# step-1"
   ]
  },
  {
   "cell_type": "code",
   "execution_count": 9,
   "id": "ce228f3c",
   "metadata": {},
   "outputs": [],
   "source": [
    "from IPython.display import clear_output\n",
    "\n",
    "def display_board(board):\n",
    "    clear_output()\n",
    "    \n",
    "    print(board[7]+'|'+board[8]+'|'+board[9])\n",
    "    print(board[4]+'|'+board[5]+'|'+board[6])\n",
    "    print(board[1]+'|'+board[2]+'|'+board[3])"
   ]
  },
  {
   "cell_type": "code",
   "execution_count": 10,
   "id": "14102a14",
   "metadata": {},
   "outputs": [
    {
     "name": "stdout",
     "output_type": "stream",
     "text": [
      " | | \n",
      " | | \n",
      " | | \n"
     ]
    }
   ],
   "source": [
    "test_board = [' ']*10\n",
    "display_board(test_board)"
   ]
  },
  {
   "cell_type": "code",
   "execution_count": 11,
   "id": "77658188",
   "metadata": {},
   "outputs": [],
   "source": [
    "# step-2"
   ]
  },
  {
   "cell_type": "code",
   "execution_count": 14,
   "id": "ab2ff1ff",
   "metadata": {},
   "outputs": [],
   "source": [
    "def player_input():\n",
    "    \n",
    "    marker = ''\n",
    "    \n",
    "    # KEEP ASKING PLAYER 1 TO CHOOSE X OR O\n",
    "    \n",
    "    while marker != 'X' and marker != 'O':\n",
    "        marker = input('Player 1, choose X or O: ')\n",
    "        \n",
    "    # ASSIN PLAYER 2, THE OPPOSITE MARKER\n",
    "    player1 = marker\n",
    "    \n",
    "    if player1 == 'X':\n",
    "        player2 = 'O'\n",
    "    else:\n",
    "        player2 = 'X'\n",
    "    \n",
    "    return (player1, player2)"
   ]
  },
  {
   "cell_type": "code",
   "execution_count": 15,
   "id": "1ed94d05",
   "metadata": {},
   "outputs": [
    {
     "name": "stdout",
     "output_type": "stream",
     "text": [
      "Player 1, choose X or O: O\n"
     ]
    }
   ],
   "source": [
    "player1_marker, player2_marker = player_input()"
   ]
  },
  {
   "cell_type": "code",
   "execution_count": 16,
   "id": "8741645a",
   "metadata": {},
   "outputs": [
    {
     "data": {
      "text/plain": [
       "'X'"
      ]
     },
     "execution_count": 16,
     "metadata": {},
     "output_type": "execute_result"
    }
   ],
   "source": [
    "player2_marker"
   ]
  },
  {
   "cell_type": "code",
   "execution_count": null,
   "id": "494c62dc",
   "metadata": {},
   "outputs": [],
   "source": [
    "def place_marker(board, marker, position):\n",
    "    "
   ]
  },
  {
   "cell_type": "code",
   "execution_count": null,
   "id": "aec3e700",
   "metadata": {},
   "outputs": [],
   "source": []
  }
 ],
 "metadata": {
  "kernelspec": {
   "display_name": "Python 3 (ipykernel)",
   "language": "python",
   "name": "python3"
  },
  "language_info": {
   "codemirror_mode": {
    "name": "ipython",
    "version": 3
   },
   "file_extension": ".py",
   "mimetype": "text/x-python",
   "name": "python",
   "nbconvert_exporter": "python",
   "pygments_lexer": "ipython3",
   "version": "3.9.13"
  }
 },
 "nbformat": 4,
 "nbformat_minor": 5
}
