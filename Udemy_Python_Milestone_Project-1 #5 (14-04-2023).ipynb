{
 "cells": [
  {
   "cell_type": "markdown",
   "id": "8e34b04e",
   "metadata": {},
   "source": [
    "## L-59 : Introduction to warm up Project Exercise \n",
    "### We are creating an interactive: \n",
    "### Tic-Tac-Toe Game!"
   ]
  },
  {
   "cell_type": "code",
   "execution_count": 1,
   "id": "177f51d3",
   "metadata": {},
   "outputs": [],
   "source": [
    "# Interactive work on this very simple idea:\n",
    "\n",
    "# 1. Visual Representation\n",
    "# 2. User input: let user update through an interaction.\n",
    "# 3. Function: Let user updated through an interaction.\n",
    "# 4. Updates: Update varible in the program.\n",
    "# 5. New Visual\n",
    "# 6. Update Visual Representation: Disply updated visual."
   ]
  },
  {
   "cell_type": "markdown",
   "id": "5a31b13e",
   "metadata": {},
   "source": [
    "## L-60 : Displaying Information"
   ]
  },
  {
   "cell_type": "code",
   "execution_count": 2,
   "id": "c72c6425",
   "metadata": {},
   "outputs": [
    {
     "name": "stdout",
     "output_type": "stream",
     "text": [
      "[1, 2, 3]\n"
     ]
    }
   ],
   "source": [
    "print([1,2,3])"
   ]
  },
  {
   "cell_type": "code",
   "execution_count": 3,
   "id": "d33e1414",
   "metadata": {},
   "outputs": [
    {
     "name": "stdout",
     "output_type": "stream",
     "text": [
      "[1, 2, 3]\n",
      "[4, 5, 6]\n",
      "[7, 8, 9]\n"
     ]
    }
   ],
   "source": [
    "print([1,2,3])\n",
    "print([4,5,6])\n",
    "print([7,8,9])"
   ]
  },
  {
   "cell_type": "code",
   "execution_count": 6,
   "id": "fb531933",
   "metadata": {},
   "outputs": [],
   "source": [
    "# Now insted of display it out 1by1 we use function to display it.\n",
    "def display(row1, row2, row3):\n",
    "    print(row1)\n",
    "    print(row2)\n",
    "    print(row3)"
   ]
  },
  {
   "cell_type": "code",
   "execution_count": 7,
   "id": "d9fae29f",
   "metadata": {},
   "outputs": [
    {
     "name": "stdout",
     "output_type": "stream",
     "text": [
      "[1, 2, 3]\n",
      "[1, 2, 3]\n",
      "[1, 2, 3]\n"
     ]
    }
   ],
   "source": [
    "example_row = [1,2,3]\n",
    "display(example_row, example_row, example_row)"
   ]
  },
  {
   "cell_type": "code",
   "execution_count": 8,
   "id": "1765ba68",
   "metadata": {},
   "outputs": [],
   "source": [
    "row1 = [' ',' ',' ']\n",
    "row2 = [' ',' ',' ']\n",
    "row3 = [' ',' ',' ']"
   ]
  },
  {
   "cell_type": "code",
   "execution_count": 9,
   "id": "9b0bb05a",
   "metadata": {},
   "outputs": [
    {
     "name": "stdout",
     "output_type": "stream",
     "text": [
      "[' ', ' ', ' ']\n",
      "[' ', ' ', ' ']\n",
      "[' ', ' ', ' ']\n"
     ]
    }
   ],
   "source": [
    "display(row1,row2,row3)"
   ]
  },
  {
   "cell_type": "code",
   "execution_count": 10,
   "id": "35c4f99a",
   "metadata": {},
   "outputs": [],
   "source": [
    "row2[1]= 'X'"
   ]
  },
  {
   "cell_type": "code",
   "execution_count": 11,
   "id": "1e9f3ed7",
   "metadata": {},
   "outputs": [
    {
     "name": "stdout",
     "output_type": "stream",
     "text": [
      "[' ', ' ', ' ']\n",
      "[' ', 'X', ' ']\n",
      "[' ', ' ', ' ']\n"
     ]
    }
   ],
   "source": [
    "display(row1,row2,row3)"
   ]
  },
  {
   "cell_type": "code",
   "execution_count": null,
   "id": "a118c278",
   "metadata": {},
   "outputs": [],
   "source": []
  }
 ],
 "metadata": {
  "kernelspec": {
   "display_name": "Python 3 (ipykernel)",
   "language": "python",
   "name": "python3"
  },
  "language_info": {
   "codemirror_mode": {
    "name": "ipython",
    "version": 3
   },
   "file_extension": ".py",
   "mimetype": "text/x-python",
   "name": "python",
   "nbconvert_exporter": "python",
   "pygments_lexer": "ipython3",
   "version": "3.9.13"
  }
 },
 "nbformat": 4,
 "nbformat_minor": 5
}
